{
 "cells":[
  {
   "cell_type":"markdown",
   "source":[
    "**PART 1 - MATCH DATA**"
   ],
   "attachments":{
    
   },
   "metadata":{
    "datalore":{
     "type":"MD",
     "hide_input_from_viewers":false,
     "hide_output_from_viewers":false
    }
   }
  },
  {
   "cell_type":"markdown",
   "source":[
    "**\"Statistical Comparison Between the Winning Countries in Football based on Several Terms\"**"
   ],
   "attachments":{
    
   },
   "metadata":{
    "datalore":{
     "type":"MD",
     "hide_input_from_viewers":false,
     "hide_output_from_viewers":false
    }
   }
  },
  {
   "cell_type":"markdown",
   "source":[
    "Abstract\n",
    "\n",
    "In this part I will analyze the probability of winning and losing for 2 countries, USA and France. They are the 2 most repeated countries in the data. I will compare between friendly\/official matches as well as the difference in playing in home\/away. There will also be a comparison of their confidence intervals, and interpret these results. "
   ],
   "attachments":{
    
   },
   "metadata":{
    "datalore":{
     "type":"MD",
     "hide_input_from_viewers":false,
     "hide_output_from_viewers":false
    }
   }
  },
  {
   "cell_type":"code",
   "source":[
    "import pandas as pd"
   ],
   "execution_count":83,
   "outputs":[
    
   ],
   "metadata":{
    "datalore":{
     "type":"CODE",
     "hide_input_from_viewers":false,
     "hide_output_from_viewers":false
    }
   }
  },
  {
   "cell_type":"code",
   "source":[
    "df=pd.read_csv(\"results.csv\")"
   ],
   "execution_count":84,
   "outputs":[
    
   ],
   "metadata":{
    "datalore":{
     "type":"CODE",
     "hide_input_from_viewers":false,
     "hide_output_from_viewers":false
    }
   }
  },
  {
   "cell_type":"code",
   "source":[
    "df.head(5)"
   ],
   "execution_count":85,
   "outputs":[
    {
     "data":{
      "text\/html":[
       "<div>\n",
       "<style scoped>\n",
       "    .dataframe tbody tr th:only-of-type {\n",
       "        vertical-align: middle;\n",
       "    }\n",
       "\n",
       "    .dataframe tbody tr th {\n",
       "        vertical-align: top;\n",
       "    }\n",
       "\n",
       "    .dataframe thead th {\n",
       "        text-align: right;\n",
       "    }\n",
       "<\/style>\n",
       "<table border=\"1\" class=\"dataframe\">\n",
       "  <thead>\n",
       "    <tr style=\"text-align: right;\">\n",
       "      <th><\/th>\n",
       "      <th>date<\/th>\n",
       "      <th>home_team<\/th>\n",
       "      <th>away_team<\/th>\n",
       "      <th>home_score<\/th>\n",
       "      <th>away_score<\/th>\n",
       "      <th>tournament<\/th>\n",
       "      <th>city<\/th>\n",
       "      <th>country<\/th>\n",
       "      <th>neutral<\/th>\n",
       "    <\/tr>\n",
       "  <\/thead>\n",
       "  <tbody>\n",
       "    <tr>\n",
       "      <th>0<\/th>\n",
       "      <td>1872-11-30<\/td>\n",
       "      <td>Scotland<\/td>\n",
       "      <td>England<\/td>\n",
       "      <td>0<\/td>\n",
       "      <td>0<\/td>\n",
       "      <td>Friendly<\/td>\n",
       "      <td>Glasgow<\/td>\n",
       "      <td>Scotland<\/td>\n",
       "      <td>False<\/td>\n",
       "    <\/tr>\n",
       "    <tr>\n",
       "      <th>1<\/th>\n",
       "      <td>1873-03-08<\/td>\n",
       "      <td>England<\/td>\n",
       "      <td>Scotland<\/td>\n",
       "      <td>4<\/td>\n",
       "      <td>2<\/td>\n",
       "      <td>Friendly<\/td>\n",
       "      <td>London<\/td>\n",
       "      <td>England<\/td>\n",
       "      <td>False<\/td>\n",
       "    <\/tr>\n",
       "    <tr>\n",
       "      <th>2<\/th>\n",
       "      <td>1874-03-07<\/td>\n",
       "      <td>Scotland<\/td>\n",
       "      <td>England<\/td>\n",
       "      <td>2<\/td>\n",
       "      <td>1<\/td>\n",
       "      <td>Friendly<\/td>\n",
       "      <td>Glasgow<\/td>\n",
       "      <td>Scotland<\/td>\n",
       "      <td>False<\/td>\n",
       "    <\/tr>\n",
       "    <tr>\n",
       "      <th>3<\/th>\n",
       "      <td>1875-03-06<\/td>\n",
       "      <td>England<\/td>\n",
       "      <td>Scotland<\/td>\n",
       "      <td>2<\/td>\n",
       "      <td>2<\/td>\n",
       "      <td>Friendly<\/td>\n",
       "      <td>London<\/td>\n",
       "      <td>England<\/td>\n",
       "      <td>False<\/td>\n",
       "    <\/tr>\n",
       "    <tr>\n",
       "      <th>4<\/th>\n",
       "      <td>1876-03-04<\/td>\n",
       "      <td>Scotland<\/td>\n",
       "      <td>England<\/td>\n",
       "      <td>3<\/td>\n",
       "      <td>0<\/td>\n",
       "      <td>Friendly<\/td>\n",
       "      <td>Glasgow<\/td>\n",
       "      <td>Scotland<\/td>\n",
       "      <td>False<\/td>\n",
       "    <\/tr>\n",
       "  <\/tbody>\n",
       "<\/table>\n",
       "<\/div>"
      ]
     },
     "metadata":{
      
     },
     "output_type":"display_data"
    }
   ],
   "metadata":{
    "datalore":{
     "type":"CODE",
     "hide_input_from_viewers":false,
     "hide_output_from_viewers":false
    }
   }
  },
  {
   "cell_type":"code",
   "source":[
    "x=df['home_score']-df['away_score']\n",
    "conditions = [\n",
    "    (x<0),\n",
    "    (x>0),\n",
    "    (x==0)\n",
    "    ]\n",
    "values= ['win','lose','draw']"
   ],
   "execution_count":86,
   "outputs":[
    
   ],
   "metadata":{
    "datalore":{
     "type":"CODE",
     "hide_input_from_viewers":false,
     "hide_output_from_viewers":false
    }
   }
  },
  {
   "cell_type":"code",
   "source":[
    "import numpy as np\n",
    "df['result'] = np.select(conditions, values)\n",
    "df.head(5)"
   ],
   "execution_count":87,
   "outputs":[
    {
     "data":{
      "text\/html":[
       "<div>\n",
       "<style scoped>\n",
       "    .dataframe tbody tr th:only-of-type {\n",
       "        vertical-align: middle;\n",
       "    }\n",
       "\n",
       "    .dataframe tbody tr th {\n",
       "        vertical-align: top;\n",
       "    }\n",
       "\n",
       "    .dataframe thead th {\n",
       "        text-align: right;\n",
       "    }\n",
       "<\/style>\n",
       "<table border=\"1\" class=\"dataframe\">\n",
       "  <thead>\n",
       "    <tr style=\"text-align: right;\">\n",
       "      <th><\/th>\n",
       "      <th>date<\/th>\n",
       "      <th>home_team<\/th>\n",
       "      <th>away_team<\/th>\n",
       "      <th>home_score<\/th>\n",
       "      <th>away_score<\/th>\n",
       "      <th>tournament<\/th>\n",
       "      <th>city<\/th>\n",
       "      <th>country<\/th>\n",
       "      <th>neutral<\/th>\n",
       "      <th>result<\/th>\n",
       "    <\/tr>\n",
       "  <\/thead>\n",
       "  <tbody>\n",
       "    <tr>\n",
       "      <th>0<\/th>\n",
       "      <td>1872-11-30<\/td>\n",
       "      <td>Scotland<\/td>\n",
       "      <td>England<\/td>\n",
       "      <td>0<\/td>\n",
       "      <td>0<\/td>\n",
       "      <td>Friendly<\/td>\n",
       "      <td>Glasgow<\/td>\n",
       "      <td>Scotland<\/td>\n",
       "      <td>False<\/td>\n",
       "      <td>draw<\/td>\n",
       "    <\/tr>\n",
       "    <tr>\n",
       "      <th>1<\/th>\n",
       "      <td>1873-03-08<\/td>\n",
       "      <td>England<\/td>\n",
       "      <td>Scotland<\/td>\n",
       "      <td>4<\/td>\n",
       "      <td>2<\/td>\n",
       "      <td>Friendly<\/td>\n",
       "      <td>London<\/td>\n",
       "      <td>England<\/td>\n",
       "      <td>False<\/td>\n",
       "      <td>lose<\/td>\n",
       "    <\/tr>\n",
       "    <tr>\n",
       "      <th>2<\/th>\n",
       "      <td>1874-03-07<\/td>\n",
       "      <td>Scotland<\/td>\n",
       "      <td>England<\/td>\n",
       "      <td>2<\/td>\n",
       "      <td>1<\/td>\n",
       "      <td>Friendly<\/td>\n",
       "      <td>Glasgow<\/td>\n",
       "      <td>Scotland<\/td>\n",
       "      <td>False<\/td>\n",
       "      <td>lose<\/td>\n",
       "    <\/tr>\n",
       "    <tr>\n",
       "      <th>3<\/th>\n",
       "      <td>1875-03-06<\/td>\n",
       "      <td>England<\/td>\n",
       "      <td>Scotland<\/td>\n",
       "      <td>2<\/td>\n",
       "      <td>2<\/td>\n",
       "      <td>Friendly<\/td>\n",
       "      <td>London<\/td>\n",
       "      <td>England<\/td>\n",
       "      <td>False<\/td>\n",
       "      <td>draw<\/td>\n",
       "    <\/tr>\n",
       "    <tr>\n",
       "      <th>4<\/th>\n",
       "      <td>1876-03-04<\/td>\n",
       "      <td>Scotland<\/td>\n",
       "      <td>England<\/td>\n",
       "      <td>3<\/td>\n",
       "      <td>0<\/td>\n",
       "      <td>Friendly<\/td>\n",
       "      <td>Glasgow<\/td>\n",
       "      <td>Scotland<\/td>\n",
       "      <td>False<\/td>\n",
       "      <td>lose<\/td>\n",
       "    <\/tr>\n",
       "  <\/tbody>\n",
       "<\/table>\n",
       "<\/div>"
      ]
     },
     "metadata":{
      
     },
     "output_type":"display_data"
    }
   ],
   "metadata":{
    "datalore":{
     "type":"CODE",
     "hide_input_from_viewers":false,
     "hide_output_from_viewers":false
    }
   }
  },
  {
   "cell_type":"code",
   "source":[
    "df['country'].value_counts().head(2)"
   ],
   "execution_count":88,
   "outputs":[
    {
     "data":{
      "text\/html":[
       
      ]
     },
     "metadata":{
      
     },
     "output_type":"display_data"
    }
   ],
   "metadata":{
    "datalore":{
     "type":"CODE",
     "hide_input_from_viewers":false,
     "hide_output_from_viewers":false
    }
   }
  },
  {
   "cell_type":"code",
   "source":[
    "df['result'].value_counts()"
   ],
   "execution_count":89,
   "outputs":[
    {
     "data":{
      "text\/html":[
       
      ]
     },
     "metadata":{
      
     },
     "output_type":"display_data"
    }
   ],
   "metadata":{
    "datalore":{
     "type":"CODE",
     "hide_input_from_viewers":false,
     "hide_output_from_viewers":false
    }
   }
  },
  {
   "cell_type":"code",
   "source":[
    "x=df['result'].value_counts()\n",
    "x=np.array(x)\n",
    "x"
   ],
   "execution_count":90,
   "outputs":[
    {
     "data":{
      "text\/html":[
       
      ]
     },
     "metadata":{
      
     },
     "output_type":"display_data"
    }
   ],
   "metadata":{
    "datalore":{
     "type":"CODE",
     "hide_input_from_viewers":false,
     "hide_output_from_viewers":false
    }
   }
  },
  {
   "cell_type":"code",
   "source":[
    "dfus=df[df['country']=='United States']"
   ],
   "execution_count":91,
   "outputs":[
    
   ],
   "metadata":{
    "datalore":{
     "type":"CODE",
     "hide_input_from_viewers":false,
     "hide_output_from_viewers":false
    }
   }
  },
  {
   "cell_type":"code",
   "source":[
    "t=dfus['result'].value_counts()\n",
    "t"
   ],
   "execution_count":92,
   "outputs":[
    {
     "data":{
      "text\/html":[
       
      ]
     },
     "metadata":{
      
     },
     "output_type":"display_data"
    }
   ],
   "metadata":{
    "datalore":{
     "type":"CODE",
     "hide_input_from_viewers":false,
     "hide_output_from_viewers":false
    }
   }
  },
  {
   "cell_type":"code",
   "source":[
    "totalus=dfus['result'].value_counts().sum()\n",
    "totalus"
   ],
   "execution_count":93,
   "outputs":[
    {
     "data":{
      "text\/plain":[
       "1237"
      ]
     },
     "metadata":{
      
     },
     "output_type":"display_data"
    }
   ],
   "metadata":{
    "datalore":{
     "type":"CODE",
     "hide_input_from_viewers":false,
     "hide_output_from_viewers":false
    }
   }
  },
  {
   "cell_type":"code",
   "source":[
    "import statsmodels.api as sm\n",
    "from statsmodels.stats.proportion import proportion_confint"
   ],
   "execution_count":94,
   "outputs":[
    
   ],
   "metadata":{
    "datalore":{
     "type":"CODE",
     "hide_input_from_viewers":false,
     "hide_output_from_viewers":false
    }
   }
  },
  {
   "cell_type":"code",
   "source":[
    "CI_US_WIN95=proportion_confint(count=t[1],nobs=totalus,alpha=(1-.95))\n",
    "CI_US_WIN95"
   ],
   "execution_count":95,
   "outputs":[
    {
     "data":{
      "text\/plain":[
       "(0.28227601058123425, 0.33373045667826456)"
      ]
     },
     "metadata":{
      
     },
     "output_type":"display_data"
    }
   ],
   "metadata":{
    "datalore":{
     "type":"CODE",
     "hide_input_from_viewers":false,
     "hide_output_from_viewers":false
    }
   }
  },
  {
   "cell_type":"code",
   "source":[
    "CI_US_LOSE95=proportion_confint(count=t[0],nobs=totalus,alpha=(1-.95))\n",
    "CI_US_LOSE95"
   ],
   "execution_count":96,
   "outputs":[
    {
     "data":{
      "text\/plain":[
       "(0.426578136216548, 0.48207182336308013)"
      ]
     },
     "metadata":{
      
     },
     "output_type":"display_data"
    }
   ],
   "metadata":{
    "datalore":{
     "type":"CODE",
     "hide_input_from_viewers":false,
     "hide_output_from_viewers":false
    }
   }
  },
  {
   "cell_type":"code",
   "source":[
    "dffr=df[df['country']=='France']"
   ],
   "execution_count":97,
   "outputs":[
    
   ],
   "metadata":{
    "datalore":{
     "type":"CODE",
     "hide_input_from_viewers":false,
     "hide_output_from_viewers":false
    }
   }
  },
  {
   "cell_type":"code",
   "source":[
    "s=dffr['result'].value_counts()\n",
    "totalfr=dffr['result'].value_counts().sum()\n",
    "s"
   ],
   "execution_count":98,
   "outputs":[
    {
     "data":{
      "text\/html":[
       
      ]
     },
     "metadata":{
      
     },
     "output_type":"display_data"
    }
   ],
   "metadata":{
    "datalore":{
     "type":"CODE",
     "hide_input_from_viewers":false,
     "hide_output_from_viewers":false
    }
   }
  },
  {
   "cell_type":"code",
   "source":[
    "import statsmodels.api as sm\n",
    "from statsmodels.stats.proportion import proportion_confint"
   ],
   "execution_count":99,
   "outputs":[
    
   ],
   "metadata":{
    "datalore":{
     "type":"CODE",
     "hide_input_from_viewers":false,
     "hide_output_from_viewers":false
    }
   }
  },
  {
   "cell_type":"code",
   "source":[
    "CI_FR_WIN95=proportion_confint(count=s[1],nobs=totalfr,alpha=(1-.95))\n",
    "CI_FR_WIN95"
   ],
   "execution_count":100,
   "outputs":[
    {
     "data":{
      "text\/plain":[
       "(0.22914098273764907, 0.28919642557530933)"
      ]
     },
     "metadata":{
      
     },
     "output_type":"display_data"
    }
   ],
   "metadata":{
    "datalore":{
     "type":"CODE",
     "hide_input_from_viewers":false,
     "hide_output_from_viewers":false
    }
   }
  },
  {
   "cell_type":"code",
   "source":[
    "CI_FR_LOSE95=proportion_confint(count=s[0],nobs=totalfr,alpha=(1-.95))\n",
    "CI_FR_LOSE95"
   ],
   "execution_count":101,
   "outputs":[
    {
     "data":{
      "text\/plain":[
       "(0.47552223946938266, 0.5440376627311064)"
      ]
     },
     "metadata":{
      
     },
     "output_type":"display_data"
    }
   ],
   "metadata":{
    "datalore":{
     "type":"CODE",
     "hide_input_from_viewers":false,
     "hide_output_from_viewers":false
    }
   }
  },
  {
   "cell_type":"code",
   "source":[
    "conditions = [\n",
    "    (dfus['tournament']=='Friendly'),\n",
    "    (dfus['tournament']!='Friendly')\n",
    "    ]"
   ],
   "execution_count":102,
   "outputs":[
    
   ],
   "metadata":{
    "datalore":{
     "type":"CODE",
     "hide_input_from_viewers":false,
     "hide_output_from_viewers":false
    }
   }
  },
  {
   "cell_type":"code",
   "source":[
    "values=['Friendly','Official']"
   ],
   "execution_count":103,
   "outputs":[
    
   ],
   "metadata":{
    "datalore":{
     "type":"CODE",
     "hide_input_from_viewers":false,
     "hide_output_from_viewers":false
    }
   }
  },
  {
   "cell_type":"code",
   "source":[
    "dfus['typematch'] = np.select(conditions, values)"
   ],
   "execution_count":104,
   "outputs":[
    {
     "name":"stderr",
     "text":[
      "<ipython-input-104-f9ec8053ded4>:1: SettingWithCopyWarning: \n",
      "A value is trying to be set on a copy of a slice from a DataFrame.\n",
      "Try using .loc[row_indexer,col_indexer] = value instead\n",
      "\n",
      "See the caveats in the documentation: https:\/\/pandas.pydata.org\/pandas-docs\/stable\/user_guide\/indexing.html#returning-a-view-versus-a-copy\n",
      "  dfus['typematch'] = np.select(conditions, values)\n"
     ],
     "output_type":"stream"
    }
   ],
   "metadata":{
    "datalore":{
     "type":"CODE",
     "hide_input_from_viewers":false,
     "hide_output_from_viewers":false
    }
   }
  },
  {
   "cell_type":"code",
   "source":[
    "dfus['typematch'].value_counts()"
   ],
   "execution_count":105,
   "outputs":[
    {
     "data":{
      "text\/html":[
       
      ]
     },
     "metadata":{
      
     },
     "output_type":"display_data"
    }
   ],
   "metadata":{
    "datalore":{
     "type":"CODE",
     "hide_input_from_viewers":false,
     "hide_output_from_viewers":false
    }
   }
  },
  {
   "cell_type":"code",
   "source":[
    "x=pd.crosstab(dfus['typematch'],dfus['result'],margins=True)\n",
    "x"
   ],
   "execution_count":106,
   "outputs":[
    {
     "data":{
      "text\/html":[
       "<div>\n",
       "<style scoped>\n",
       "    .dataframe tbody tr th:only-of-type {\n",
       "        vertical-align: middle;\n",
       "    }\n",
       "\n",
       "    .dataframe tbody tr th {\n",
       "        vertical-align: top;\n",
       "    }\n",
       "\n",
       "    .dataframe thead th {\n",
       "        text-align: right;\n",
       "    }\n",
       "<\/style>\n",
       "<table border=\"1\" class=\"dataframe\">\n",
       "  <thead>\n",
       "    <tr style=\"text-align: right;\">\n",
       "      <th>result<\/th>\n",
       "      <th>draw<\/th>\n",
       "      <th>lose<\/th>\n",
       "      <th>win<\/th>\n",
       "      <th>All<\/th>\n",
       "    <\/tr>\n",
       "    <tr>\n",
       "      <th>typematch<\/th>\n",
       "      <th><\/th>\n",
       "      <th><\/th>\n",
       "      <th><\/th>\n",
       "      <th><\/th>\n",
       "    <\/tr>\n",
       "  <\/thead>\n",
       "  <tbody>\n",
       "    <tr>\n",
       "      <th>Friendly<\/th>\n",
       "      <td>180<\/td>\n",
       "      <td>247<\/td>\n",
       "      <td>226<\/td>\n",
       "      <td>653<\/td>\n",
       "    <\/tr>\n",
       "    <tr>\n",
       "      <th>Official<\/th>\n",
       "      <td>114<\/td>\n",
       "      <td>315<\/td>\n",
       "      <td>155<\/td>\n",
       "      <td>584<\/td>\n",
       "    <\/tr>\n",
       "    <tr>\n",
       "      <th>All<\/th>\n",
       "      <td>294<\/td>\n",
       "      <td>562<\/td>\n",
       "      <td>381<\/td>\n",
       "      <td>1237<\/td>\n",
       "    <\/tr>\n",
       "  <\/tbody>\n",
       "<\/table>\n",
       "<\/div>"
      ]
     },
     "metadata":{
      
     },
     "output_type":"display_data"
    }
   ],
   "metadata":{
    "datalore":{
     "type":"CODE",
     "hide_input_from_viewers":false,
     "hide_output_from_viewers":false
    }
   }
  },
  {
   "cell_type":"code",
   "source":[
    "x=np.array(x)\n",
    "x"
   ],
   "execution_count":107,
   "outputs":[
    {
     "data":{
      "text\/html":[
       
      ]
     },
     "metadata":{
      
     },
     "output_type":"display_data"
    }
   ],
   "metadata":{
    "datalore":{
     "type":"CODE",
     "hide_input_from_viewers":false,
     "hide_output_from_viewers":false
    }
   }
  },
  {
   "cell_type":"code",
   "source":[
    "CI_uswin_friendly=proportion_confint(count=x[0,2],nobs=x[0,3],alpha=(1-.95))\n",
    "CI_uswin_friendly"
   ],
   "execution_count":108,
   "outputs":[
    {
     "data":{
      "text\/plain":[
       "(0.3096072474351973, 0.38258264536725295)"
      ]
     },
     "metadata":{
      
     },
     "output_type":"display_data"
    }
   ],
   "metadata":{
    "datalore":{
     "type":"CODE",
     "hide_input_from_viewers":false,
     "hide_output_from_viewers":false
    }
   }
  },
  {
   "cell_type":"code",
   "source":[
    "CI_uswin_official=proportion_confint(count=x[1,2],nobs=x[1,3],alpha=(1-.95))\n",
    "CI_uswin_official"
   ],
   "execution_count":109,
   "outputs":[
    {
     "data":{
      "text\/plain":[
       "(0.22959939266607973, 0.30122252514213943)"
      ]
     },
     "metadata":{
      
     },
     "output_type":"display_data"
    }
   ],
   "metadata":{
    "datalore":{
     "type":"CODE",
     "hide_input_from_viewers":false,
     "hide_output_from_viewers":false
    }
   }
  },
  {
   "cell_type":"code",
   "source":[
    "ci_uswin = {}\n",
    "ci_uswin['Typematch'] = ['Friendly','Official']\n",
    "ci_uswin['lb'] = [CI_uswin_friendly[0],CI_uswin_official[0]]\n",
    "ci_uswin['ub'] = [CI_uswin_friendly[1],CI_uswin_official[1]]\n",
    "df_ci= pd.DataFrame(ci_uswin)\n",
    "df_ci"
   ],
   "execution_count":110,
   "outputs":[
    {
     "data":{
      "text\/html":[
       "<div>\n",
       "<style scoped>\n",
       "    .dataframe tbody tr th:only-of-type {\n",
       "        vertical-align: middle;\n",
       "    }\n",
       "\n",
       "    .dataframe tbody tr th {\n",
       "        vertical-align: top;\n",
       "    }\n",
       "\n",
       "    .dataframe thead th {\n",
       "        text-align: right;\n",
       "    }\n",
       "<\/style>\n",
       "<table border=\"1\" class=\"dataframe\">\n",
       "  <thead>\n",
       "    <tr style=\"text-align: right;\">\n",
       "      <th><\/th>\n",
       "      <th>Typematch<\/th>\n",
       "      <th>lb<\/th>\n",
       "      <th>ub<\/th>\n",
       "    <\/tr>\n",
       "  <\/thead>\n",
       "  <tbody>\n",
       "    <tr>\n",
       "      <th>0<\/th>\n",
       "      <td>Friendly<\/td>\n",
       "      <td>0.309607<\/td>\n",
       "      <td>0.382583<\/td>\n",
       "    <\/tr>\n",
       "    <tr>\n",
       "      <th>1<\/th>\n",
       "      <td>Official<\/td>\n",
       "      <td>0.229599<\/td>\n",
       "      <td>0.301223<\/td>\n",
       "    <\/tr>\n",
       "  <\/tbody>\n",
       "<\/table>\n",
       "<\/div>"
      ]
     },
     "metadata":{
      
     },
     "output_type":"display_data"
    }
   ],
   "metadata":{
    "datalore":{
     "type":"CODE",
     "hide_input_from_viewers":false,
     "hide_output_from_viewers":false
    }
   }
  },
  {
   "cell_type":"code",
   "source":[
    "import matplotlib.pyplot as plt\n",
    "for lb,ub,y in zip(df_ci['lb'],df_ci['ub'],range(len(df_ci))):\n",
    "    plt.plot((lb,ub),(y,y),'ro-')\n",
    "plt.yticks(range(len(df_ci)),list(df_ci['Typematch']))"
   ],
   "execution_count":111,
   "outputs":[
    {
     "data":{
      "text\/plain":[
       "([<matplotlib.axis.YTick at 0x7fa84539a8b0>,\n",
       "  <matplotlib.axis.YTick at 0x7fa84539a130>],\n",
       " [Text(0, 0, 'Friendly'), Text(0, 1, 'Official')])"
      ],
      "image\/png":"[encoded data removed]"
     },
     "metadata":{
      "image\/png":{
       
      }
     },
     "output_type":"display_data"
    }
   ],
   "metadata":{
    "datalore":{
     "type":"CODE",
     "hide_input_from_viewers":false,
     "hide_output_from_viewers":false
    }
   }
  },
  {
   "cell_type":"code",
   "source":[
    "dfus['home'] = np.select(conditions, values)"
   ],
   "execution_count":112,
   "outputs":[
    {
     "name":"stderr",
     "text":[
      "<ipython-input-112-d30cd10e610e>:1: SettingWithCopyWarning: \n",
      "A value is trying to be set on a copy of a slice from a DataFrame.\n",
      "Try using .loc[row_indexer,col_indexer] = value instead\n",
      "\n",
      "See the caveats in the documentation: https:\/\/pandas.pydata.org\/pandas-docs\/stable\/user_guide\/indexing.html#returning-a-view-versus-a-copy\n",
      "  dfus['home'] = np.select(conditions, values)\n"
     ],
     "output_type":"stream"
    }
   ],
   "metadata":{
    "datalore":{
     "type":"CODE",
     "hide_input_from_viewers":false,
     "hide_output_from_viewers":false
    }
   }
  },
  {
   "cell_type":"code",
   "source":[
    "dfus['home'].value_counts()"
   ],
   "execution_count":113,
   "outputs":[
    {
     "data":{
      "text\/html":[
       
      ]
     },
     "metadata":{
      
     },
     "output_type":"display_data"
    }
   ],
   "metadata":{
    "datalore":{
     "type":"CODE",
     "hide_input_from_viewers":false,
     "hide_output_from_viewers":false
    }
   }
  },
  {
   "cell_type":"code",
   "source":[
    "x=pd.crosstab(dfus['home'],dfus['result'],margins=True)\n",
    "x"
   ],
   "execution_count":114,
   "outputs":[
    {
     "data":{
      "text\/html":[
       "<div>\n",
       "<style scoped>\n",
       "    .dataframe tbody tr th:only-of-type {\n",
       "        vertical-align: middle;\n",
       "    }\n",
       "\n",
       "    .dataframe tbody tr th {\n",
       "        vertical-align: top;\n",
       "    }\n",
       "\n",
       "    .dataframe thead th {\n",
       "        text-align: right;\n",
       "    }\n",
       "<\/style>\n",
       "<table border=\"1\" class=\"dataframe\">\n",
       "  <thead>\n",
       "    <tr style=\"text-align: right;\">\n",
       "      <th>result<\/th>\n",
       "      <th>draw<\/th>\n",
       "      <th>lose<\/th>\n",
       "      <th>win<\/th>\n",
       "      <th>All<\/th>\n",
       "    <\/tr>\n",
       "    <tr>\n",
       "      <th>home<\/th>\n",
       "      <th><\/th>\n",
       "      <th><\/th>\n",
       "      <th><\/th>\n",
       "      <th><\/th>\n",
       "    <\/tr>\n",
       "  <\/thead>\n",
       "  <tbody>\n",
       "    <tr>\n",
       "      <th>Friendly<\/th>\n",
       "      <td>180<\/td>\n",
       "      <td>247<\/td>\n",
       "      <td>226<\/td>\n",
       "      <td>653<\/td>\n",
       "    <\/tr>\n",
       "    <tr>\n",
       "      <th>Official<\/th>\n",
       "      <td>114<\/td>\n",
       "      <td>315<\/td>\n",
       "      <td>155<\/td>\n",
       "      <td>584<\/td>\n",
       "    <\/tr>\n",
       "    <tr>\n",
       "      <th>All<\/th>\n",
       "      <td>294<\/td>\n",
       "      <td>562<\/td>\n",
       "      <td>381<\/td>\n",
       "      <td>1237<\/td>\n",
       "    <\/tr>\n",
       "  <\/tbody>\n",
       "<\/table>\n",
       "<\/div>"
      ]
     },
     "metadata":{
      
     },
     "output_type":"display_data"
    }
   ],
   "metadata":{
    "datalore":{
     "type":"CODE",
     "hide_input_from_viewers":false,
     "hide_output_from_viewers":false
    }
   }
  },
  {
   "cell_type":"code",
   "source":[
    "x=np.array(x)\n",
    "x"
   ],
   "execution_count":115,
   "outputs":[
    {
     "data":{
      "text\/html":[
       
      ]
     },
     "metadata":{
      
     },
     "output_type":"display_data"
    }
   ],
   "metadata":{
    "datalore":{
     "type":"CODE",
     "hide_input_from_viewers":false,
     "hide_output_from_viewers":false
    }
   }
  },
  {
   "cell_type":"code",
   "source":[
    "CI_uswin_home=proportion_confint(count=x[1,2],nobs=x[1,3],alpha=(1-.95))\n",
    "CI_uswin_home"
   ],
   "execution_count":116,
   "outputs":[
    {
     "data":{
      "text\/plain":[
       "(0.22959939266607973, 0.30122252514213943)"
      ]
     },
     "metadata":{
      
     },
     "output_type":"display_data"
    }
   ],
   "metadata":{
    "datalore":{
     "type":"CODE",
     "hide_input_from_viewers":false,
     "hide_output_from_viewers":false
    }
   }
  },
  {
   "cell_type":"code",
   "source":[
    "CI_uswin_away=proportion_confint(count=x[0,2],nobs=x[0,3],alpha=(1-.95))\n",
    "CI_uswin_away"
   ],
   "execution_count":117,
   "outputs":[
    {
     "data":{
      "text\/plain":[
       "(0.3096072474351973, 0.38258264536725295)"
      ]
     },
     "metadata":{
      
     },
     "output_type":"display_data"
    }
   ],
   "metadata":{
    "datalore":{
     "type":"CODE",
     "hide_input_from_viewers":false,
     "hide_output_from_viewers":false
    }
   }
  },
  {
   "cell_type":"code",
   "source":[
    "ci_uswin = {}\n",
    "ci_uswin['home'] = ['Yes','No']\n",
    "ci_uswin['lb'] = [CI_uswin_home[0],CI_uswin_away[0]]\n",
    "ci_uswin['ub'] = [CI_uswin_home[1],CI_uswin_away[1]]\n",
    "df_ci= pd.DataFrame(ci_uswin)\n",
    "df_ci"
   ],
   "execution_count":118,
   "outputs":[
    {
     "data":{
      "text\/html":[
       "<div>\n",
       "<style scoped>\n",
       "    .dataframe tbody tr th:only-of-type {\n",
       "        vertical-align: middle;\n",
       "    }\n",
       "\n",
       "    .dataframe tbody tr th {\n",
       "        vertical-align: top;\n",
       "    }\n",
       "\n",
       "    .dataframe thead th {\n",
       "        text-align: right;\n",
       "    }\n",
       "<\/style>\n",
       "<table border=\"1\" class=\"dataframe\">\n",
       "  <thead>\n",
       "    <tr style=\"text-align: right;\">\n",
       "      <th><\/th>\n",
       "      <th>home<\/th>\n",
       "      <th>lb<\/th>\n",
       "      <th>ub<\/th>\n",
       "    <\/tr>\n",
       "  <\/thead>\n",
       "  <tbody>\n",
       "    <tr>\n",
       "      <th>0<\/th>\n",
       "      <td>Yes<\/td>\n",
       "      <td>0.229599<\/td>\n",
       "      <td>0.301223<\/td>\n",
       "    <\/tr>\n",
       "    <tr>\n",
       "      <th>1<\/th>\n",
       "      <td>No<\/td>\n",
       "      <td>0.309607<\/td>\n",
       "      <td>0.382583<\/td>\n",
       "    <\/tr>\n",
       "  <\/tbody>\n",
       "<\/table>\n",
       "<\/div>"
      ]
     },
     "metadata":{
      
     },
     "output_type":"display_data"
    }
   ],
   "metadata":{
    "datalore":{
     "type":"CODE",
     "hide_input_from_viewers":false,
     "hide_output_from_viewers":false
    }
   }
  },
  {
   "cell_type":"code",
   "source":[
    "for lb,ub,y in zip(df_ci['lb'],df_ci['ub'],range(len(df_ci))):\n",
    "    plt.plot((lb,ub),(y,y),'ro-')\n",
    "plt.yticks(range(len(df_ci)),list(df_ci['home']))"
   ],
   "execution_count":119,
   "outputs":[
    {
     "data":{
      "text\/plain":[
       "([<matplotlib.axis.YTick at 0x7fa84531d490>,\n",
       "  <matplotlib.axis.YTick at 0x7fa845315cd0>],\n",
       " [Text(0, 0, 'Yes'), Text(0, 1, 'No')])"
      ],
      "image\/png":"[encoded data removed]"
     },
     "metadata":{
      "image\/png":{
       
      }
     },
     "output_type":"display_data"
    }
   ],
   "metadata":{
    "datalore":{
     "type":"CODE",
     "hide_input_from_viewers":false,
     "hide_output_from_viewers":false
    }
   }
  },
  {
   "cell_type":"code",
   "source":[
    "conditions = [\n",
    "    (dffr['tournament']=='Friendly'),\n",
    "    (dffr['tournament']!='Friendly')\n",
    "    ]"
   ],
   "execution_count":120,
   "outputs":[
    
   ],
   "metadata":{
    "datalore":{
     "type":"CODE",
     "hide_input_from_viewers":false,
     "hide_output_from_viewers":false
    }
   }
  },
  {
   "cell_type":"code",
   "source":[
    "values=['Friendly','Official']"
   ],
   "execution_count":121,
   "outputs":[
    
   ],
   "metadata":{
    "datalore":{
     "type":"CODE",
     "hide_input_from_viewers":false,
     "hide_output_from_viewers":false
    }
   }
  },
  {
   "cell_type":"code",
   "source":[
    "dffr['typematch'] = np.select(conditions, values)"
   ],
   "execution_count":122,
   "outputs":[
    {
     "name":"stderr",
     "text":[
      "<ipython-input-122-1982b2d9861e>:1: SettingWithCopyWarning: \n",
      "A value is trying to be set on a copy of a slice from a DataFrame.\n",
      "Try using .loc[row_indexer,col_indexer] = value instead\n",
      "\n",
      "See the caveats in the documentation: https:\/\/pandas.pydata.org\/pandas-docs\/stable\/user_guide\/indexing.html#returning-a-view-versus-a-copy\n",
      "  dffr['typematch'] = np.select(conditions, values)\n"
     ],
     "output_type":"stream"
    }
   ],
   "metadata":{
    "datalore":{
     "type":"CODE",
     "hide_input_from_viewers":false,
     "hide_output_from_viewers":false
    }
   }
  },
  {
   "cell_type":"code",
   "source":[
    "dffr['typematch'].value_counts()"
   ],
   "execution_count":123,
   "outputs":[
    {
     "data":{
      "text\/html":[
       
      ]
     },
     "metadata":{
      
     },
     "output_type":"display_data"
    }
   ],
   "metadata":{
    "datalore":{
     "type":"CODE",
     "hide_input_from_viewers":false,
     "hide_output_from_viewers":false
    }
   }
  },
  {
   "cell_type":"code",
   "source":[
    "x=pd.crosstab(dffr['typematch'],dffr['result'],margins=True)\n",
    "x"
   ],
   "execution_count":124,
   "outputs":[
    {
     "data":{
      "text\/html":[
       "<div>\n",
       "<style scoped>\n",
       "    .dataframe tbody tr th:only-of-type {\n",
       "        vertical-align: middle;\n",
       "    }\n",
       "\n",
       "    .dataframe tbody tr th {\n",
       "        vertical-align: top;\n",
       "    }\n",
       "\n",
       "    .dataframe thead th {\n",
       "        text-align: right;\n",
       "    }\n",
       "<\/style>\n",
       "<table border=\"1\" class=\"dataframe\">\n",
       "  <thead>\n",
       "    <tr style=\"text-align: right;\">\n",
       "      <th>result<\/th>\n",
       "      <th>draw<\/th>\n",
       "      <th>lose<\/th>\n",
       "      <th>win<\/th>\n",
       "      <th>All<\/th>\n",
       "    <\/tr>\n",
       "    <tr>\n",
       "      <th>typematch<\/th>\n",
       "      <th><\/th>\n",
       "      <th><\/th>\n",
       "      <th><\/th>\n",
       "      <th><\/th>\n",
       "    <\/tr>\n",
       "  <\/thead>\n",
       "  <tbody>\n",
       "    <tr>\n",
       "      <th>Friendly<\/th>\n",
       "      <td>112<\/td>\n",
       "      <td>228<\/td>\n",
       "      <td>131<\/td>\n",
       "      <td>471<\/td>\n",
       "    <\/tr>\n",
       "    <tr>\n",
       "      <th>Official<\/th>\n",
       "      <td>77<\/td>\n",
       "      <td>189<\/td>\n",
       "      <td>81<\/td>\n",
       "      <td>347<\/td>\n",
       "    <\/tr>\n",
       "    <tr>\n",
       "      <th>All<\/th>\n",
       "      <td>189<\/td>\n",
       "      <td>417<\/td>\n",
       "      <td>212<\/td>\n",
       "      <td>818<\/td>\n",
       "    <\/tr>\n",
       "  <\/tbody>\n",
       "<\/table>\n",
       "<\/div>"
      ]
     },
     "metadata":{
      
     },
     "output_type":"display_data"
    }
   ],
   "metadata":{
    "datalore":{
     "type":"CODE",
     "hide_input_from_viewers":false,
     "hide_output_from_viewers":false
    }
   }
  },
  {
   "cell_type":"code",
   "source":[
    "x=np.array(x)\n",
    "x"
   ],
   "execution_count":125,
   "outputs":[
    {
     "data":{
      "text\/html":[
       
      ]
     },
     "metadata":{
      
     },
     "output_type":"display_data"
    }
   ],
   "metadata":{
    "datalore":{
     "type":"CODE",
     "hide_input_from_viewers":false,
     "hide_output_from_viewers":false
    }
   }
  },
  {
   "cell_type":"code",
   "source":[
    "CI_frwin_friendly=proportion_confint(count=x[0,2],nobs=x[0,3],alpha=(1-.95))\n",
    "CI_frwin_friendly"
   ],
   "execution_count":126,
   "outputs":[
    {
     "data":{
      "text\/plain":[
       "(0.2376654895121334, 0.3185977801269324)"
      ]
     },
     "metadata":{
      
     },
     "output_type":"display_data"
    }
   ],
   "metadata":{
    "datalore":{
     "type":"CODE",
     "hide_input_from_viewers":false,
     "hide_output_from_viewers":false
    }
   }
  },
  {
   "cell_type":"code",
   "source":[
    "CI_frwin_official=proportion_confint(count=x[1,2],nobs=x[1,3],alpha=(1-.95))\n",
    "CI_frwin_official"
   ],
   "execution_count":127,
   "outputs":[
    {
     "data":{
      "text\/plain":[
       "(0.18892148425887595, 0.27793730536648426)"
      ]
     },
     "metadata":{
      
     },
     "output_type":"display_data"
    }
   ],
   "metadata":{
    "datalore":{
     "type":"CODE",
     "hide_input_from_viewers":false,
     "hide_output_from_viewers":false
    }
   }
  },
  {
   "cell_type":"code",
   "source":[
    "ci_frwin = {}\n",
    "ci_frwin['typematch'] = ['Friendly','Official']\n",
    "ci_frwin['lb'] = [CI_frwin_friendly[0],CI_frwin_official[0]]\n",
    "ci_frwin['ub'] = [CI_frwin_friendly[1],CI_frwin_official[1]]\n",
    "df_ci= pd.DataFrame(ci_uswin)\n",
    "df_ci"
   ],
   "execution_count":128,
   "outputs":[
    {
     "data":{
      "text\/html":[
       "<div>\n",
       "<style scoped>\n",
       "    .dataframe tbody tr th:only-of-type {\n",
       "        vertical-align: middle;\n",
       "    }\n",
       "\n",
       "    .dataframe tbody tr th {\n",
       "        vertical-align: top;\n",
       "    }\n",
       "\n",
       "    .dataframe thead th {\n",
       "        text-align: right;\n",
       "    }\n",
       "<\/style>\n",
       "<table border=\"1\" class=\"dataframe\">\n",
       "  <thead>\n",
       "    <tr style=\"text-align: right;\">\n",
       "      <th><\/th>\n",
       "      <th>home<\/th>\n",
       "      <th>lb<\/th>\n",
       "      <th>ub<\/th>\n",
       "    <\/tr>\n",
       "  <\/thead>\n",
       "  <tbody>\n",
       "    <tr>\n",
       "      <th>0<\/th>\n",
       "      <td>Yes<\/td>\n",
       "      <td>0.229599<\/td>\n",
       "      <td>0.301223<\/td>\n",
       "    <\/tr>\n",
       "    <tr>\n",
       "      <th>1<\/th>\n",
       "      <td>No<\/td>\n",
       "      <td>0.309607<\/td>\n",
       "      <td>0.382583<\/td>\n",
       "    <\/tr>\n",
       "  <\/tbody>\n",
       "<\/table>\n",
       "<\/div>"
      ]
     },
     "metadata":{
      
     },
     "output_type":"display_data"
    }
   ],
   "metadata":{
    "datalore":{
     "type":"CODE",
     "hide_input_from_viewers":false,
     "hide_output_from_viewers":false
    }
   }
  },
  {
   "cell_type":"code",
   "source":[
    "import matplotlib.pyplot as plt\n",
    "for lb,ub,y in zip(df_ci['lb'],df_ci['ub'],range(len(df_ci))):\n",
    "    plt.plot((lb,ub),(y,y),'ro-')\n",
    "plt.yticks(range(len(df_ci)),list(df_ci['typematch']))"
   ],
   "execution_count":129,
   "outputs":[
    {
     "ename":"KeyError",
     "evalue":"KeyError: 'typematch'",
     "traceback":[
      "\u001b[0;31m---------------------------------------------------------------------------",
      "Traceback (most recent call last)",
      "    at line 4 in <module>",
      "    at line 3458 in __getitem__(self, key)",
      "    at line 3363 in get_loc(self, key, method, tolerance)",
      "KeyError: 'typematch'"
     ],
     "output_type":"error"
    },
    {
     "data":{
      "image\/png":"[encoded data removed]"
     },
     "metadata":{
      "image\/png":{
       
      }
     },
     "output_type":"display_data"
    }
   ],
   "metadata":{
    "datalore":{
     "type":"CODE",
     "hide_input_from_viewers":false,
     "hide_output_from_viewers":false
    }
   }
  },
  {
   "cell_type":"code",
   "source":[
    "dffr['home']=(dffr['home_team']=='France')"
   ],
   "execution_count":81,
   "outputs":[
    {
     "name":"stderr",
     "text":[
      "<ipython-input-81-c0bdd4779af4>:1: SettingWithCopyWarning: \n",
      "A value is trying to be set on a copy of a slice from a DataFrame.\n",
      "Try using .loc[row_indexer,col_indexer] = value instead\n",
      "\n",
      "See the caveats in the documentation: https:\/\/pandas.pydata.org\/pandas-docs\/stable\/user_guide\/indexing.html#returning-a-view-versus-a-copy\n",
      "  dffr['home']=(dffr['home_team']=='France')\n"
     ],
     "output_type":"stream"
    }
   ],
   "metadata":{
    "datalore":{
     "type":"CODE",
     "hide_input_from_viewers":false,
     "hide_output_from_viewers":false
    }
   }
  },
  {
   "cell_type":"code",
   "source":[
    "dffr['home'].value_counts()"
   ],
   "execution_count":82,
   "outputs":[
    {
     "data":{
      "text\/html":[
       
      ]
     },
     "metadata":{
      
     },
     "output_type":"display_data"
    }
   ],
   "metadata":{
    "datalore":{
     "type":"CODE",
     "hide_input_from_viewers":false,
     "hide_output_from_viewers":false
    }
   }
  },
  {
   "cell_type":"code",
   "source":[
    "x=pd.crosstab(dffr['typematch'],dffr['result'],margins=True)\n",
    "x"
   ],
   "execution_count":83,
   "outputs":[
    {
     "data":{
      "text\/html":[
       "<div>\n",
       "<style scoped>\n",
       "    .dataframe tbody tr th:only-of-type {\n",
       "        vertical-align: middle;\n",
       "    }\n",
       "\n",
       "    .dataframe tbody tr th {\n",
       "        vertical-align: top;\n",
       "    }\n",
       "\n",
       "    .dataframe thead th {\n",
       "        text-align: right;\n",
       "    }\n",
       "<\/style>\n",
       "<table border=\"1\" class=\"dataframe\">\n",
       "  <thead>\n",
       "    <tr style=\"text-align: right;\">\n",
       "      <th>result<\/th>\n",
       "      <th>draw<\/th>\n",
       "      <th>lose<\/th>\n",
       "      <th>win<\/th>\n",
       "      <th>All<\/th>\n",
       "    <\/tr>\n",
       "    <tr>\n",
       "      <th>typematch<\/th>\n",
       "      <th><\/th>\n",
       "      <th><\/th>\n",
       "      <th><\/th>\n",
       "      <th><\/th>\n",
       "    <\/tr>\n",
       "  <\/thead>\n",
       "  <tbody>\n",
       "    <tr>\n",
       "      <th>Friendly<\/th>\n",
       "      <td>112<\/td>\n",
       "      <td>228<\/td>\n",
       "      <td>131<\/td>\n",
       "      <td>471<\/td>\n",
       "    <\/tr>\n",
       "    <tr>\n",
       "      <th>Official<\/th>\n",
       "      <td>77<\/td>\n",
       "      <td>189<\/td>\n",
       "      <td>81<\/td>\n",
       "      <td>347<\/td>\n",
       "    <\/tr>\n",
       "    <tr>\n",
       "      <th>All<\/th>\n",
       "      <td>189<\/td>\n",
       "      <td>417<\/td>\n",
       "      <td>212<\/td>\n",
       "      <td>818<\/td>\n",
       "    <\/tr>\n",
       "  <\/tbody>\n",
       "<\/table>\n",
       "<\/div>"
      ]
     },
     "metadata":{
      
     },
     "output_type":"display_data"
    }
   ],
   "metadata":{
    "datalore":{
     "type":"CODE",
     "hide_input_from_viewers":false,
     "hide_output_from_viewers":false
    }
   }
  },
  {
   "cell_type":"code",
   "source":[
    "x=np.array(x)\n",
    "x"
   ],
   "execution_count":84,
   "outputs":[
    {
     "data":{
      "text\/html":[
       
      ]
     },
     "metadata":{
      
     },
     "output_type":"display_data"
    }
   ],
   "metadata":{
    "datalore":{
     "type":"CODE",
     "hide_input_from_viewers":false,
     "hide_output_from_viewers":false
    }
   }
  },
  {
   "cell_type":"code",
   "source":[
    "CI_frwin_home=proportion_confint(count=x[1,2],nobs=x[1,3],alpha=(1-.95))\n",
    "CI_frwin_home"
   ],
   "execution_count":85,
   "outputs":[
    {
     "data":{
      "text\/plain":[
       "(0.18892148425887595, 0.27793730536648426)"
      ]
     },
     "metadata":{
      
     },
     "output_type":"display_data"
    }
   ],
   "metadata":{
    "datalore":{
     "type":"CODE",
     "hide_input_from_viewers":false,
     "hide_output_from_viewers":false
    }
   }
  },
  {
   "cell_type":"code",
   "source":[
    "CI_frwin_away=proportion_confint(count=x[0,2],nobs=x[0,3],alpha=(1-.95))\n",
    "CI_frwin_away"
   ],
   "execution_count":86,
   "outputs":[
    {
     "data":{
      "text\/plain":[
       "(0.2376654895121334, 0.3185977801269324)"
      ]
     },
     "metadata":{
      
     },
     "output_type":"display_data"
    }
   ],
   "metadata":{
    "datalore":{
     "type":"CODE",
     "hide_input_from_viewers":false,
     "hide_output_from_viewers":false
    }
   }
  },
  {
   "cell_type":"code",
   "source":[
    "ci_frwin = {}\n",
    "ci_frwin['home'] = ['Yes','No']\n",
    "ci_frwin['lb'] = [CI_frwin_home[0],CI_frwin_away[0]]\n",
    "ci_frwin['ub'] = [CI_frwin_home[1],CI_frwin_away[1]]\n",
    "df_ci= pd.DataFrame(ci_frwin)\n",
    "df_ci"
   ],
   "execution_count":87,
   "outputs":[
    {
     "data":{
      "text\/html":[
       "<div>\n",
       "<style scoped>\n",
       "    .dataframe tbody tr th:only-of-type {\n",
       "        vertical-align: middle;\n",
       "    }\n",
       "\n",
       "    .dataframe tbody tr th {\n",
       "        vertical-align: top;\n",
       "    }\n",
       "\n",
       "    .dataframe thead th {\n",
       "        text-align: right;\n",
       "    }\n",
       "<\/style>\n",
       "<table border=\"1\" class=\"dataframe\">\n",
       "  <thead>\n",
       "    <tr style=\"text-align: right;\">\n",
       "      <th><\/th>\n",
       "      <th>home<\/th>\n",
       "      <th>lb<\/th>\n",
       "      <th>ub<\/th>\n",
       "    <\/tr>\n",
       "  <\/thead>\n",
       "  <tbody>\n",
       "    <tr>\n",
       "      <th>0<\/th>\n",
       "      <td>Yes<\/td>\n",
       "      <td>0.188921<\/td>\n",
       "      <td>0.277937<\/td>\n",
       "    <\/tr>\n",
       "    <tr>\n",
       "      <th>1<\/th>\n",
       "      <td>No<\/td>\n",
       "      <td>0.237665<\/td>\n",
       "      <td>0.318598<\/td>\n",
       "    <\/tr>\n",
       "  <\/tbody>\n",
       "<\/table>\n",
       "<\/div>"
      ]
     },
     "metadata":{
      
     },
     "output_type":"display_data"
    }
   ],
   "metadata":{
    "datalore":{
     "type":"CODE",
     "hide_input_from_viewers":false,
     "hide_output_from_viewers":false
    }
   }
  },
  {
   "cell_type":"code",
   "source":[
    "for lb,ub,y in zip(df_ci['lb'],df_ci['ub'],range(len(df_ci))):\n",
    "    plt.plot((lb,ub),(y,y),'ro-')\n",
    "plt.yticks(range(len(df_ci)),list(df_ci['home']))"
   ],
   "execution_count":88,
   "outputs":[
    {
     "data":{
      "text\/plain":[
       "([<matplotlib.axis.YTick at 0x7ff22c3e8a90>,\n",
       "  <matplotlib.axis.YTick at 0x7ff22c3e88e0>],\n",
       " [Text(0, 0, 'Yes'), Text(0, 1, 'No')])"
      ],
      "image\/png":"[encoded data removed]"
     },
     "metadata":{
      "image\/png":{
       
      }
     },
     "output_type":"display_data"
    }
   ],
   "metadata":{
    "datalore":{
     "type":"CODE",
     "hide_input_from_viewers":false,
     "hide_output_from_viewers":false
    }
   }
  },
  {
   "cell_type":"markdown",
   "source":[
    "**Discussion and Conclusion of Results**\n",
    "\n",
    "For both the USA and France, they win more friendly matches than official ones. This could be because friendly matches are less regulated, so they are less stressful for the players. Official matches are regulated by FIFA, and every goal counts, which puts pressure on the players. Also, in friendly matches, the teams can play against any other teams, which can increase their probability of winning (if they play against an easy team). For official matches, they have to play in a certain cup\/league which is a lot more competitive. \n",
    "\n",
    "The USA and France also won more home matches than away matches. This could be because of having a home advantage, where the players are familiar with the field and the atmosphere. It could also be because of the large fan base that attends the match when the team plays on the homeland. Therefore, the cheering gives the players a confidence boost and pushes them to play better and score more goals. \n",
    "From the confidence intervals and graphs, we can see that \"no\" has a higher probability, but it also has a higher margin of error, and we want a smaller interval to have more precise and accurate data.\n"
   ],
   "attachments":{
    
   },
   "metadata":{
    "datalore":{
     "type":"MD",
     "hide_input_from_viewers":false,
     "hide_output_from_viewers":false
    }
   }
  },
  {
   "cell_type":"markdown",
   "source":[
    "**Part 2 - COVID DATA**"
   ],
   "attachments":{
    
   },
   "metadata":{
    "datalore":{
     "type":"MD",
     "hide_input_from_viewers":false,
     "hide_output_from_viewers":false
    }
   }
  },
  {
   "cell_type":"markdown",
   "source":[
    "**Abstract**\n",
    "\n",
    "In this part I will analyze the number of cases in Italy over the months in the period from 2020 to 2021. These cases will be discussed in relation to region, income level, and continent. I will also analyze the case fatality rate and how it changed over time. "
   ],
   "attachments":{
    
   },
   "metadata":{
    "datalore":{
     "type":"MD",
     "hide_input_from_viewers":false,
     "hide_output_from_viewers":false
    }
   }
  },
  {
   "cell_type":"markdown",
   "source":[
    "**Analysis of CoronaVirus Pandemic Over the Period Between 2020 and 2021**"
   ],
   "attachments":{
    
   },
   "metadata":{
    "datalore":{
     "type":"MD",
     "hide_input_from_viewers":false,
     "hide_output_from_viewers":false
    }
   }
  },
  {
   "cell_type":"code",
   "source":[
    "import pandas as pd"
   ],
   "execution_count":1,
   "outputs":[
    
   ],
   "metadata":{
    "datalore":{
     "type":"CODE",
     "hide_input_from_viewers":false,
     "hide_output_from_viewers":false
    }
   }
  },
  {
   "cell_type":"code",
   "source":[
    "df1=pd.read_csv('covid_data.csv',encoding='latin-1')\n",
    "df1.head(5)"
   ],
   "execution_count":157,
   "outputs":[
    {
     "data":{
      "text\/html":[
       "<div>\n",
       "<style scoped>\n",
       "    .dataframe tbody tr th:only-of-type {\n",
       "        vertical-align: middle;\n",
       "    }\n",
       "\n",
       "    .dataframe tbody tr th {\n",
       "        vertical-align: top;\n",
       "    }\n",
       "\n",
       "    .dataframe thead th {\n",
       "        text-align: right;\n",
       "    }\n",
       "<\/style>\n",
       "<table border=\"1\" class=\"dataframe\">\n",
       "  <thead>\n",
       "    <tr style=\"text-align: right;\">\n",
       "      <th><\/th>\n",
       "      <th>date<\/th>\n",
       "      <th>iso3c<\/th>\n",
       "      <th>country<\/th>\n",
       "      <th>income<\/th>\n",
       "      <th>region<\/th>\n",
       "      <th>continent<\/th>\n",
       "      <th>dcases<\/th>\n",
       "      <th>ddeaths<\/th>\n",
       "      <th>population<\/th>\n",
       "      <th>weekdays<\/th>\n",
       "      <th>month<\/th>\n",
       "    <\/tr>\n",
       "  <\/thead>\n",
       "  <tbody>\n",
       "    <tr>\n",
       "      <th>0<\/th>\n",
       "      <td>2020-02-24<\/td>\n",
       "      <td>AFG<\/td>\n",
       "      <td>Afghanistan<\/td>\n",
       "      <td>Low income<\/td>\n",
       "      <td>South Asia<\/td>\n",
       "      <td>Asia<\/td>\n",
       "      <td>5<\/td>\n",
       "      <td>0<\/td>\n",
       "      <td>38041754<\/td>\n",
       "      <td>Mon<\/td>\n",
       "      <td>Feb<\/td>\n",
       "    <\/tr>\n",
       "    <tr>\n",
       "      <th>1<\/th>\n",
       "      <td>2020-02-25<\/td>\n",
       "      <td>AFG<\/td>\n",
       "      <td>Afghanistan<\/td>\n",
       "      <td>Low income<\/td>\n",
       "      <td>South Asia<\/td>\n",
       "      <td>Asia<\/td>\n",
       "      <td>0<\/td>\n",
       "      <td>0<\/td>\n",
       "      <td>38041754<\/td>\n",
       "      <td>Tue<\/td>\n",
       "      <td>Feb<\/td>\n",
       "    <\/tr>\n",
       "    <tr>\n",
       "      <th>2<\/th>\n",
       "      <td>2020-02-26<\/td>\n",
       "      <td>AFG<\/td>\n",
       "      <td>Afghanistan<\/td>\n",
       "      <td>Low income<\/td>\n",
       "      <td>South Asia<\/td>\n",
       "      <td>Asia<\/td>\n",
       "      <td>0<\/td>\n",
       "      <td>0<\/td>\n",
       "      <td>38041754<\/td>\n",
       "      <td>Wed<\/td>\n",
       "      <td>Feb<\/td>\n",
       "    <\/tr>\n",
       "    <tr>\n",
       "      <th>3<\/th>\n",
       "      <td>2020-02-27<\/td>\n",
       "      <td>AFG<\/td>\n",
       "      <td>Afghanistan<\/td>\n",
       "      <td>Low income<\/td>\n",
       "      <td>South Asia<\/td>\n",
       "      <td>Asia<\/td>\n",
       "      <td>0<\/td>\n",
       "      <td>0<\/td>\n",
       "      <td>38041754<\/td>\n",
       "      <td>Thu<\/td>\n",
       "      <td>Feb<\/td>\n",
       "    <\/tr>\n",
       "    <tr>\n",
       "      <th>4<\/th>\n",
       "      <td>2020-02-28<\/td>\n",
       "      <td>AFG<\/td>\n",
       "      <td>Afghanistan<\/td>\n",
       "      <td>Low income<\/td>\n",
       "      <td>South Asia<\/td>\n",
       "      <td>Asia<\/td>\n",
       "      <td>0<\/td>\n",
       "      <td>0<\/td>\n",
       "      <td>38041754<\/td>\n",
       "      <td>Fri<\/td>\n",
       "      <td>Feb<\/td>\n",
       "    <\/tr>\n",
       "  <\/tbody>\n",
       "<\/table>\n",
       "<\/div>"
      ]
     },
     "metadata":{
      
     },
     "output_type":"display_data"
    }
   ],
   "metadata":{
    "datalore":{
     "type":"CODE",
     "hide_input_from_viewers":false,
     "hide_output_from_viewers":false
    }
   }
  },
  {
   "cell_type":"code",
   "source":[
    "df1['dcases'].sum()"
   ],
   "execution_count":3,
   "outputs":[
    {
     "data":{
      "text\/plain":[
       "289138394"
      ]
     },
     "metadata":{
      
     },
     "output_type":"display_data"
    }
   ],
   "metadata":{
    "datalore":{
     "type":"CODE",
     "hide_input_from_viewers":false,
     "hide_output_from_viewers":false
    }
   }
  },
  {
   "cell_type":"code",
   "source":[
    "df1['ddeaths'].sum()"
   ],
   "execution_count":158,
   "outputs":[
    {
     "data":{
      "text\/plain":[
       "5441088"
      ]
     },
     "metadata":{
      
     },
     "output_type":"display_data"
    }
   ],
   "metadata":{
    "datalore":{
     "type":"CODE",
     "hide_input_from_viewers":false,
     "hide_output_from_viewers":false
    }
   }
  },
  {
   "cell_type":"code",
   "source":[
    "df1['totcases'] = df1.groupby(['iso3c'])['dcases'].cumsum()"
   ],
   "execution_count":161,
   "outputs":[
    
   ],
   "metadata":{
    "datalore":{
     "type":"CODE",
     "hide_input_from_viewers":false,
     "hide_output_from_viewers":false
    }
   }
  },
  {
   "cell_type":"code",
   "source":[
    "df1['totdeaths'] = df1.groupby(['iso3c'])['ddeaths'].cumsum()"
   ],
   "execution_count":162,
   "outputs":[
    
   ],
   "metadata":{
    "datalore":{
     "type":"CODE",
     "hide_input_from_viewers":false,
     "hide_output_from_viewers":false
    }
   }
  },
  {
   "cell_type":"code",
   "source":[
    "df1['cfr']=df1['totdeaths']\/df1['totcases']\n",
    "df1['cfr']"
   ],
   "execution_count":163,
   "outputs":[
    {
     "data":{
      "text\/html":[
       
      ]
     },
     "metadata":{
      
     },
     "output_type":"display_data"
    }
   ],
   "metadata":{
    "datalore":{
     "type":"CODE",
     "hide_input_from_viewers":false,
     "hide_output_from_viewers":false
    }
   }
  },
  {
   "cell_type":"code",
   "source":[
    "from pandas.api.types import CategoricalDtype\n",
    "cats=['Jan', 'Feb', 'Mar','Apr','May','Jun','Jul','Aug','Sep','Oct','Nov','Dec']\n",
    "cat_type = CategoricalDtype(categories=cats, ordered=True)\n",
    "df['month'] = df1['month'].astype(cat_type)"
   ],
   "execution_count":164,
   "outputs":[
    
   ],
   "metadata":{
    "datalore":{
     "type":"CODE",
     "hide_input_from_viewers":false,
     "hide_output_from_viewers":false
    }
   }
  },
  {
   "cell_type":"code",
   "source":[
    "import numpy as np"
   ],
   "execution_count":19,
   "outputs":[
    
   ],
   "metadata":{
    "datalore":{
     "type":"CODE",
     "hide_input_from_viewers":false,
     "hide_output_from_viewers":false
    }
   }
  },
  {
   "cell_type":"code",
   "source":[
    "dfitaly=df1[df1['country']=='Italy']"
   ],
   "execution_count":165,
   "outputs":[
    
   ],
   "metadata":{
    "datalore":{
     "type":"CODE",
     "hide_input_from_viewers":false,
     "hide_output_from_viewers":false
    }
   }
  },
  {
   "cell_type":"code",
   "source":[
    "statsm=dfitaly.groupby(\"month\").agg({\"dcases\": [np.mean, np.std, np.size]})\n",
    "statsm"
   ],
   "execution_count":28,
   "outputs":[
    {
     "data":{
      "text\/html":[
       "<div>\n",
       "<style scoped>\n",
       "    .dataframe tbody tr th:only-of-type {\n",
       "        vertical-align: middle;\n",
       "    }\n",
       "\n",
       "    .dataframe tbody tr th {\n",
       "        vertical-align: top;\n",
       "    }\n",
       "\n",
       "    .dataframe thead tr th {\n",
       "        text-align: left;\n",
       "    }\n",
       "\n",
       "    .dataframe thead tr:last-of-type th {\n",
       "        text-align: right;\n",
       "    }\n",
       "<\/style>\n",
       "<table border=\"1\" class=\"dataframe\">\n",
       "  <thead>\n",
       "    <tr>\n",
       "      <th><\/th>\n",
       "      <th colspan=\"3\" halign=\"left\">dcases<\/th>\n",
       "    <\/tr>\n",
       "    <tr>\n",
       "      <th><\/th>\n",
       "      <th>mean<\/th>\n",
       "      <th>std<\/th>\n",
       "      <th>size<\/th>\n",
       "    <\/tr>\n",
       "    <tr>\n",
       "      <th>month<\/th>\n",
       "      <th><\/th>\n",
       "      <th><\/th>\n",
       "      <th><\/th>\n",
       "    <\/tr>\n",
       "  <\/thead>\n",
       "  <tbody>\n",
       "    <tr>\n",
       "      <th>Jan<\/th>\n",
       "      <td>13933.375000<\/td>\n",
       "      <td>4153.673879<\/td>\n",
       "      <td>32<\/td>\n",
       "    <\/tr>\n",
       "    <tr>\n",
       "      <th>Feb<\/th>\n",
       "      <td>6550.157895<\/td>\n",
       "      <td>7087.868330<\/td>\n",
       "      <td>57<\/td>\n",
       "    <\/tr>\n",
       "    <tr>\n",
       "      <th>Mar<\/th>\n",
       "      <td>12327.387097<\/td>\n",
       "      <td>9538.507570<\/td>\n",
       "      <td>62<\/td>\n",
       "    <\/tr>\n",
       "    <tr>\n",
       "      <th>Apr<\/th>\n",
       "      <td>8957.083333<\/td>\n",
       "      <td>6294.353578<\/td>\n",
       "      <td>60<\/td>\n",
       "    <\/tr>\n",
       "    <tr>\n",
       "      <th>May<\/th>\n",
       "      <td>3591.967742<\/td>\n",
       "      <td>3428.237314<\/td>\n",
       "      <td>62<\/td>\n",
       "    <\/tr>\n",
       "    <tr>\n",
       "      <th>Jun<\/th>\n",
       "      <td>830.283333<\/td>\n",
       "      <td>768.894873<\/td>\n",
       "      <td>60<\/td>\n",
       "    <\/tr>\n",
       "    <tr>\n",
       "      <th>Jul<\/th>\n",
       "      <td>1565.774194<\/td>\n",
       "      <td>1927.797337<\/td>\n",
       "      <td>62<\/td>\n",
       "    <\/tr>\n",
       "    <tr>\n",
       "      <th>Aug<\/th>\n",
       "      <td>3413.548387<\/td>\n",
       "      <td>2893.262613<\/td>\n",
       "      <td>62<\/td>\n",
       "    <\/tr>\n",
       "    <tr>\n",
       "      <th>Sep<\/th>\n",
       "      <td>2966.850000<\/td>\n",
       "      <td>1726.120366<\/td>\n",
       "      <td>60<\/td>\n",
       "    <\/tr>\n",
       "    <tr>\n",
       "      <th>Oct<\/th>\n",
       "      <td>7486.758065<\/td>\n",
       "      <td>7653.189368<\/td>\n",
       "      <td>62<\/td>\n",
       "    <\/tr>\n",
       "    <tr>\n",
       "      <th>Nov<\/th>\n",
       "      <td>19645.100000<\/td>\n",
       "      <td>12182.697904<\/td>\n",
       "      <td>60<\/td>\n",
       "    <\/tr>\n",
       "    <tr>\n",
       "      <th>Dec<\/th>\n",
       "      <td>25850.774194<\/td>\n",
       "      <td>25288.347597<\/td>\n",
       "      <td>62<\/td>\n",
       "    <\/tr>\n",
       "  <\/tbody>\n",
       "<\/table>\n",
       "<\/div>"
      ]
     },
     "metadata":{
      
     },
     "output_type":"display_data"
    }
   ],
   "metadata":{
    "datalore":{
     "type":"CODE",
     "hide_input_from_viewers":false,
     "hide_output_from_viewers":false
    }
   }
  },
  {
   "cell_type":"code",
   "source":[
    "import numpy as np\n",
    "import scipy.stats"
   ],
   "execution_count":29,
   "outputs":[
    
   ],
   "metadata":{
    "datalore":{
     "type":"CODE",
     "hide_input_from_viewers":false,
     "hide_output_from_viewers":false
    }
   }
  },
  {
   "cell_type":"code",
   "source":[
    "statsm.index"
   ],
   "execution_count":30,
   "outputs":[
    {
     "data":{
      "text\/plain":[
       "CategoricalIndex(['Jan', 'Feb', 'Mar', 'Apr', 'May', 'Jun', 'Jul', 'Aug',\n",
       "                  'Sep', 'Oct', 'Nov', 'Dec'],\n",
       "                 categories=['Jan', 'Feb', 'Mar', 'Apr', 'May', 'Jun', 'Jul', 'Aug', ...], ordered=True, dtype='category', name='month')"
      ]
     },
     "metadata":{
      
     },
     "output_type":"display_data"
    }
   ],
   "metadata":{
    "datalore":{
     "type":"CODE",
     "hide_input_from_viewers":false,
     "hide_output_from_viewers":false
    }
   }
  },
  {
   "cell_type":"code",
   "source":[
    "ci95_hi = []\n",
    "ci95_lo = []"
   ],
   "execution_count":31,
   "outputs":[
    
   ],
   "metadata":{
    "datalore":{
     "type":"CODE",
     "hide_input_from_viewers":false,
     "hide_output_from_viewers":false
    }
   }
  },
  {
   "cell_type":"code",
   "source":[
    "for i in statsm.index:\n",
    "    m, s, n = statsm.loc[i]\n",
    "    x=scipy.stats.t.interval(.95, n-1, m,s\/np.sqrt(n-1))\n",
    "    ci95_hi.append(x[1])\n",
    "    ci95_lo.append(x[0])"
   ],
   "execution_count":32,
   "outputs":[
    
   ],
   "metadata":{
    "datalore":{
     "type":"CODE",
     "hide_input_from_viewers":false,
     "hide_output_from_viewers":false
    }
   }
  },
  {
   "cell_type":"code",
   "source":[
    "ci95_hi"
   ],
   "execution_count":33,
   "outputs":[
    {
     "data":{
      "text\/plain":[
       "[15454.896597579496,\n",
       " 8447.53985281795,\n",
       " 14769.48888431799,\n",
       " 10596.809075245104,\n",
       " 4469.6841363432595,\n",
       " 1030.5861444049117,\n",
       " 2059.3395953838144,\n",
       " 4154.297581517585,\n",
       " 3416.5171443142563,\n",
       " 9446.17019452278,\n",
       " 22818.78306586521,\n",
       " 32325.23766879297]"
      ]
     },
     "metadata":{
      
     },
     "output_type":"display_data"
    }
   ],
   "metadata":{
    "datalore":{
     "type":"CODE",
     "hide_input_from_viewers":false,
     "hide_output_from_viewers":false
    }
   }
  },
  {
   "cell_type":"code",
   "source":[
    "ci95_lo"
   ],
   "execution_count":34,
   "outputs":[
    {
     "data":{
      "text\/plain":[
       "[12411.853402420504,\n",
       " 4652.775936655735,\n",
       " 9885.285309230396,\n",
       " 7317.357591421564,\n",
       " 2714.2513475277087,\n",
       " 629.9805222617549,\n",
       " 1072.2087917129597,\n",
       " 2672.7991926759632,\n",
       " 2517.1828556857436,\n",
       " 5527.345934509478,\n",
       " 16471.416934134788,\n",
       " 19376.3107183038]"
      ]
     },
     "metadata":{
      
     },
     "output_type":"display_data"
    }
   ],
   "metadata":{
    "datalore":{
     "type":"CODE",
     "hide_input_from_viewers":false,
     "hide_output_from_viewers":false
    }
   }
  },
  {
   "cell_type":"code",
   "source":[
    "statsm['ci95_hi'] = ci95_hi\n",
    "statsm['ci95_lo'] = ci95_lo\n",
    "print(statsm)"
   ],
   "execution_count":35,
   "outputs":[
    {
     "name":"stdout",
     "text":[
      "             dcases                          ci95_hi       ci95_lo\n",
      "               mean           std size                            \n",
      "month                                                             \n",
      "Jan    13933.375000   4153.673879   32  15454.896598  12411.853402\n",
      "Feb     6550.157895   7087.868330   57   8447.539853   4652.775937\n",
      "Mar    12327.387097   9538.507570   62  14769.488884   9885.285309\n",
      "Apr     8957.083333   6294.353578   60  10596.809075   7317.357591\n",
      "May     3591.967742   3428.237314   62   4469.684136   2714.251348\n",
      "Jun      830.283333    768.894873   60   1030.586144    629.980522\n",
      "Jul     1565.774194   1927.797337   62   2059.339595   1072.208792\n",
      "Aug     3413.548387   2893.262613   62   4154.297582   2672.799193\n",
      "Sep     2966.850000   1726.120366   60   3416.517144   2517.182856\n",
      "Oct     7486.758065   7653.189368   62   9446.170195   5527.345935\n",
      "Nov    19645.100000  12182.697904   60  22818.783066  16471.416934\n",
      "Dec    25850.774194  25288.347597   62  32325.237669  19376.310718\n"
     ],
     "output_type":"stream"
    }
   ],
   "metadata":{
    "datalore":{
     "type":"CODE",
     "hide_input_from_viewers":false,
     "hide_output_from_viewers":false
    }
   }
  },
  {
   "cell_type":"code",
   "source":[
    "df_ci= pd.DataFrame(statsm)\n",
    "df_ci"
   ],
   "execution_count":36,
   "outputs":[
    {
     "data":{
      "text\/html":[
       "<div>\n",
       "<style scoped>\n",
       "    .dataframe tbody tr th:only-of-type {\n",
       "        vertical-align: middle;\n",
       "    }\n",
       "\n",
       "    .dataframe tbody tr th {\n",
       "        vertical-align: top;\n",
       "    }\n",
       "\n",
       "    .dataframe thead tr th {\n",
       "        text-align: left;\n",
       "    }\n",
       "\n",
       "    .dataframe thead tr:last-of-type th {\n",
       "        text-align: right;\n",
       "    }\n",
       "<\/style>\n",
       "<table border=\"1\" class=\"dataframe\">\n",
       "  <thead>\n",
       "    <tr>\n",
       "      <th><\/th>\n",
       "      <th colspan=\"3\" halign=\"left\">dcases<\/th>\n",
       "      <th>ci95_hi<\/th>\n",
       "      <th>ci95_lo<\/th>\n",
       "    <\/tr>\n",
       "    <tr>\n",
       "      <th><\/th>\n",
       "      <th>mean<\/th>\n",
       "      <th>std<\/th>\n",
       "      <th>size<\/th>\n",
       "      <th><\/th>\n",
       "      <th><\/th>\n",
       "    <\/tr>\n",
       "    <tr>\n",
       "      <th>month<\/th>\n",
       "      <th><\/th>\n",
       "      <th><\/th>\n",
       "      <th><\/th>\n",
       "      <th><\/th>\n",
       "      <th><\/th>\n",
       "    <\/tr>\n",
       "  <\/thead>\n",
       "  <tbody>\n",
       "    <tr>\n",
       "      <th>Jan<\/th>\n",
       "      <td>13933.375000<\/td>\n",
       "      <td>4153.673879<\/td>\n",
       "      <td>32<\/td>\n",
       "      <td>15454.896598<\/td>\n",
       "      <td>12411.853402<\/td>\n",
       "    <\/tr>\n",
       "    <tr>\n",
       "      <th>Feb<\/th>\n",
       "      <td>6550.157895<\/td>\n",
       "      <td>7087.868330<\/td>\n",
       "      <td>57<\/td>\n",
       "      <td>8447.539853<\/td>\n",
       "      <td>4652.775937<\/td>\n",
       "    <\/tr>\n",
       "    <tr>\n",
       "      <th>Mar<\/th>\n",
       "      <td>12327.387097<\/td>\n",
       "      <td>9538.507570<\/td>\n",
       "      <td>62<\/td>\n",
       "      <td>14769.488884<\/td>\n",
       "      <td>9885.285309<\/td>\n",
       "    <\/tr>\n",
       "    <tr>\n",
       "      <th>Apr<\/th>\n",
       "      <td>8957.083333<\/td>\n",
       "      <td>6294.353578<\/td>\n",
       "      <td>60<\/td>\n",
       "      <td>10596.809075<\/td>\n",
       "      <td>7317.357591<\/td>\n",
       "    <\/tr>\n",
       "    <tr>\n",
       "      <th>May<\/th>\n",
       "      <td>3591.967742<\/td>\n",
       "      <td>3428.237314<\/td>\n",
       "      <td>62<\/td>\n",
       "      <td>4469.684136<\/td>\n",
       "      <td>2714.251348<\/td>\n",
       "    <\/tr>\n",
       "    <tr>\n",
       "      <th>Jun<\/th>\n",
       "      <td>830.283333<\/td>\n",
       "      <td>768.894873<\/td>\n",
       "      <td>60<\/td>\n",
       "      <td>1030.586144<\/td>\n",
       "      <td>629.980522<\/td>\n",
       "    <\/tr>\n",
       "    <tr>\n",
       "      <th>Jul<\/th>\n",
       "      <td>1565.774194<\/td>\n",
       "      <td>1927.797337<\/td>\n",
       "      <td>62<\/td>\n",
       "      <td>2059.339595<\/td>\n",
       "      <td>1072.208792<\/td>\n",
       "    <\/tr>\n",
       "    <tr>\n",
       "      <th>Aug<\/th>\n",
       "      <td>3413.548387<\/td>\n",
       "      <td>2893.262613<\/td>\n",
       "      <td>62<\/td>\n",
       "      <td>4154.297582<\/td>\n",
       "      <td>2672.799193<\/td>\n",
       "    <\/tr>\n",
       "    <tr>\n",
       "      <th>Sep<\/th>\n",
       "      <td>2966.850000<\/td>\n",
       "      <td>1726.120366<\/td>\n",
       "      <td>60<\/td>\n",
       "      <td>3416.517144<\/td>\n",
       "      <td>2517.182856<\/td>\n",
       "    <\/tr>\n",
       "    <tr>\n",
       "      <th>Oct<\/th>\n",
       "      <td>7486.758065<\/td>\n",
       "      <td>7653.189368<\/td>\n",
       "      <td>62<\/td>\n",
       "      <td>9446.170195<\/td>\n",
       "      <td>5527.345935<\/td>\n",
       "    <\/tr>\n",
       "    <tr>\n",
       "      <th>Nov<\/th>\n",
       "      <td>19645.100000<\/td>\n",
       "      <td>12182.697904<\/td>\n",
       "      <td>60<\/td>\n",
       "      <td>22818.783066<\/td>\n",
       "      <td>16471.416934<\/td>\n",
       "    <\/tr>\n",
       "    <tr>\n",
       "      <th>Dec<\/th>\n",
       "      <td>25850.774194<\/td>\n",
       "      <td>25288.347597<\/td>\n",
       "      <td>62<\/td>\n",
       "      <td>32325.237669<\/td>\n",
       "      <td>19376.310718<\/td>\n",
       "    <\/tr>\n",
       "  <\/tbody>\n",
       "<\/table>\n",
       "<\/div>"
      ]
     },
     "metadata":{
      
     },
     "output_type":"display_data"
    }
   ],
   "metadata":{
    "datalore":{
     "type":"CODE",
     "hide_input_from_viewers":false,
     "hide_output_from_viewers":false
    }
   }
  },
  {
   "cell_type":"code",
   "source":[
    "df_ci['month']=df_ci.index\n",
    "df_ci"
   ],
   "execution_count":38,
   "outputs":[
    {
     "data":{
      "text\/html":[
       "<div>\n",
       "<style scoped>\n",
       "    .dataframe tbody tr th:only-of-type {\n",
       "        vertical-align: middle;\n",
       "    }\n",
       "\n",
       "    .dataframe tbody tr th {\n",
       "        vertical-align: top;\n",
       "    }\n",
       "\n",
       "    .dataframe thead tr th {\n",
       "        text-align: left;\n",
       "    }\n",
       "\n",
       "    .dataframe thead tr:last-of-type th {\n",
       "        text-align: right;\n",
       "    }\n",
       "<\/style>\n",
       "<table border=\"1\" class=\"dataframe\">\n",
       "  <thead>\n",
       "    <tr>\n",
       "      <th><\/th>\n",
       "      <th colspan=\"3\" halign=\"left\">dcases<\/th>\n",
       "      <th>ci95_hi<\/th>\n",
       "      <th>ci95_lo<\/th>\n",
       "      <th>month<\/th>\n",
       "    <\/tr>\n",
       "    <tr>\n",
       "      <th><\/th>\n",
       "      <th>mean<\/th>\n",
       "      <th>std<\/th>\n",
       "      <th>size<\/th>\n",
       "      <th><\/th>\n",
       "      <th><\/th>\n",
       "      <th><\/th>\n",
       "    <\/tr>\n",
       "    <tr>\n",
       "      <th>month<\/th>\n",
       "      <th><\/th>\n",
       "      <th><\/th>\n",
       "      <th><\/th>\n",
       "      <th><\/th>\n",
       "      <th><\/th>\n",
       "      <th><\/th>\n",
       "    <\/tr>\n",
       "  <\/thead>\n",
       "  <tbody>\n",
       "    <tr>\n",
       "      <th>Jan<\/th>\n",
       "      <td>13933.375000<\/td>\n",
       "      <td>4153.673879<\/td>\n",
       "      <td>32<\/td>\n",
       "      <td>15454.896598<\/td>\n",
       "      <td>12411.853402<\/td>\n",
       "      <td>Jan<\/td>\n",
       "    <\/tr>\n",
       "    <tr>\n",
       "      <th>Feb<\/th>\n",
       "      <td>6550.157895<\/td>\n",
       "      <td>7087.868330<\/td>\n",
       "      <td>57<\/td>\n",
       "      <td>8447.539853<\/td>\n",
       "      <td>4652.775937<\/td>\n",
       "      <td>Feb<\/td>\n",
       "    <\/tr>\n",
       "    <tr>\n",
       "      <th>Mar<\/th>\n",
       "      <td>12327.387097<\/td>\n",
       "      <td>9538.507570<\/td>\n",
       "      <td>62<\/td>\n",
       "      <td>14769.488884<\/td>\n",
       "      <td>9885.285309<\/td>\n",
       "      <td>Mar<\/td>\n",
       "    <\/tr>\n",
       "    <tr>\n",
       "      <th>Apr<\/th>\n",
       "      <td>8957.083333<\/td>\n",
       "      <td>6294.353578<\/td>\n",
       "      <td>60<\/td>\n",
       "      <td>10596.809075<\/td>\n",
       "      <td>7317.357591<\/td>\n",
       "      <td>Apr<\/td>\n",
       "    <\/tr>\n",
       "    <tr>\n",
       "      <th>May<\/th>\n",
       "      <td>3591.967742<\/td>\n",
       "      <td>3428.237314<\/td>\n",
       "      <td>62<\/td>\n",
       "      <td>4469.684136<\/td>\n",
       "      <td>2714.251348<\/td>\n",
       "      <td>May<\/td>\n",
       "    <\/tr>\n",
       "    <tr>\n",
       "      <th>Jun<\/th>\n",
       "      <td>830.283333<\/td>\n",
       "      <td>768.894873<\/td>\n",
       "      <td>60<\/td>\n",
       "      <td>1030.586144<\/td>\n",
       "      <td>629.980522<\/td>\n",
       "      <td>Jun<\/td>\n",
       "    <\/tr>\n",
       "    <tr>\n",
       "      <th>Jul<\/th>\n",
       "      <td>1565.774194<\/td>\n",
       "      <td>1927.797337<\/td>\n",
       "      <td>62<\/td>\n",
       "      <td>2059.339595<\/td>\n",
       "      <td>1072.208792<\/td>\n",
       "      <td>Jul<\/td>\n",
       "    <\/tr>\n",
       "    <tr>\n",
       "      <th>Aug<\/th>\n",
       "      <td>3413.548387<\/td>\n",
       "      <td>2893.262613<\/td>\n",
       "      <td>62<\/td>\n",
       "      <td>4154.297582<\/td>\n",
       "      <td>2672.799193<\/td>\n",
       "      <td>Aug<\/td>\n",
       "    <\/tr>\n",
       "    <tr>\n",
       "      <th>Sep<\/th>\n",
       "      <td>2966.850000<\/td>\n",
       "      <td>1726.120366<\/td>\n",
       "      <td>60<\/td>\n",
       "      <td>3416.517144<\/td>\n",
       "      <td>2517.182856<\/td>\n",
       "      <td>Sep<\/td>\n",
       "    <\/tr>\n",
       "    <tr>\n",
       "      <th>Oct<\/th>\n",
       "      <td>7486.758065<\/td>\n",
       "      <td>7653.189368<\/td>\n",
       "      <td>62<\/td>\n",
       "      <td>9446.170195<\/td>\n",
       "      <td>5527.345935<\/td>\n",
       "      <td>Oct<\/td>\n",
       "    <\/tr>\n",
       "    <tr>\n",
       "      <th>Nov<\/th>\n",
       "      <td>19645.100000<\/td>\n",
       "      <td>12182.697904<\/td>\n",
       "      <td>60<\/td>\n",
       "      <td>22818.783066<\/td>\n",
       "      <td>16471.416934<\/td>\n",
       "      <td>Nov<\/td>\n",
       "    <\/tr>\n",
       "    <tr>\n",
       "      <th>Dec<\/th>\n",
       "      <td>25850.774194<\/td>\n",
       "      <td>25288.347597<\/td>\n",
       "      <td>62<\/td>\n",
       "      <td>32325.237669<\/td>\n",
       "      <td>19376.310718<\/td>\n",
       "      <td>Dec<\/td>\n",
       "    <\/tr>\n",
       "  <\/tbody>\n",
       "<\/table>\n",
       "<\/div>"
      ]
     },
     "metadata":{
      
     },
     "output_type":"display_data"
    }
   ],
   "metadata":{
    "datalore":{
     "type":"CODE",
     "hide_input_from_viewers":false,
     "hide_output_from_viewers":false
    }
   }
  },
  {
   "cell_type":"code",
   "source":[
    "import matplotlib.pyplot as plt"
   ],
   "execution_count":39,
   "outputs":[
    
   ],
   "metadata":{
    "datalore":{
     "type":"CODE",
     "hide_input_from_viewers":false,
     "hide_output_from_viewers":false
    }
   }
  },
  {
   "cell_type":"code",
   "source":[
    "for lb,ub,y in zip(df_ci['ci95_lo'],df_ci['ci95_hi'],range(len(df_ci))):\n",
    "    plt.plot((lb,ub),(y,y),'ro-')\n",
    "plt.yticks(range(len(df_ci)),list(df_ci['month']))"
   ],
   "execution_count":40,
   "outputs":[
    {
     "data":{
      "text\/plain":[
       "([<matplotlib.axis.YTick at 0x7fa84cbc64c0>,\n",
       "  <matplotlib.axis.YTick at 0x7fa84cbb2d00>,\n",
       "  <matplotlib.axis.YTick at 0x7fa84cbb2220>,\n",
       "  <matplotlib.axis.YTick at 0x7fa84cb22040>,\n",
       "  <matplotlib.axis.YTick at 0x7fa84cb22700>,\n",
       "  <matplotlib.axis.YTick at 0x7fa84cb22e50>,\n",
       "  <matplotlib.axis.YTick at 0x7fa84cb2c5e0>,\n",
       "  <matplotlib.axis.YTick at 0x7fa84cb2cd30>,\n",
       "  <matplotlib.axis.YTick at 0x7fa84cb2cca0>,\n",
       "  <matplotlib.axis.YTick at 0x7fa84cb22e80>,\n",
       "  <matplotlib.axis.YTick at 0x7fa84cb30670>,\n",
       "  <matplotlib.axis.YTick at 0x7fa84cb30dc0>],\n",
       " [Text(0, 0, 'Jan'),\n",
       "  Text(0, 1, 'Feb'),\n",
       "  Text(0, 2, 'Mar'),\n",
       "  Text(0, 3, 'Apr'),\n",
       "  Text(0, 4, 'May'),\n",
       "  Text(0, 5, 'Jun'),\n",
       "  Text(0, 6, 'Jul'),\n",
       "  Text(0, 7, 'Aug'),\n",
       "  Text(0, 8, 'Sep'),\n",
       "  Text(0, 9, 'Oct'),\n",
       "  Text(0, 10, 'Nov'),\n",
       "  Text(0, 11, 'Dec')])"
      ],
      "image\/png":"[encoded data removed]"
     },
     "metadata":{
      "image\/png":{
       
      }
     },
     "output_type":"display_data"
    }
   ],
   "metadata":{
    "datalore":{
     "type":"CODE",
     "hide_input_from_viewers":false,
     "hide_output_from_viewers":false
    }
   }
  },
  {
   "cell_type":"markdown",
   "source":[
    "**COVID Cases by Income**"
   ],
   "attachments":{
    
   },
   "metadata":{
    "datalore":{
     "type":"MD",
     "hide_input_from_viewers":false,
     "hide_output_from_viewers":false
    }
   }
  },
  {
   "cell_type":"code",
   "source":[
    "import pandas as pd\n",
    "df=pd.read_csv('covid_data.csv',encoding='latin-1')"
   ],
   "execution_count":41,
   "outputs":[
    
   ],
   "metadata":{
    "datalore":{
     "type":"CODE",
     "hide_input_from_viewers":false,
     "hide_output_from_viewers":false
    }
   }
  },
  {
   "cell_type":"code",
   "source":[
    "df['income'].unique()"
   ],
   "execution_count":50,
   "outputs":[
    {
     "data":{
      "text\/html":[
       
      ]
     },
     "metadata":{
      
     },
     "output_type":"display_data"
    }
   ],
   "metadata":{
    "datalore":{
     "type":"CODE",
     "hide_input_from_viewers":false,
     "hide_output_from_viewers":false
    }
   }
  },
  {
   "cell_type":"code",
   "source":[
    "from pandas.api.types import CategoricalDtype\n",
    "cats=['Low income', 'Lower middle income', 'Upper middle income','High income',]\n",
    "cat_type = CategoricalDtype(categories=cats, ordered=True)\n",
    "df['income'] = df['income'].astype(cat_type)"
   ],
   "execution_count":53,
   "outputs":[
    
   ],
   "metadata":{
    "datalore":{
     "type":"CODE",
     "hide_input_from_viewers":false,
     "hide_output_from_viewers":false
    }
   }
  },
  {
   "cell_type":"code",
   "source":[
    "dfitaly=df[df['country']=='Italy']"
   ],
   "execution_count":52,
   "outputs":[
    
   ],
   "metadata":{
    "datalore":{
     "type":"CODE",
     "hide_input_from_viewers":false,
     "hide_output_from_viewers":false
    }
   }
  },
  {
   "cell_type":"code",
   "source":[
    "import numpy as np"
   ],
   "execution_count":68,
   "outputs":[
    
   ],
   "metadata":{
    "datalore":{
     "type":"CODE",
     "hide_input_from_viewers":false,
     "hide_output_from_viewers":false
    }
   }
  },
  {
   "cell_type":"code",
   "source":[
    "stats=dfitaly.groupby(\"income\").agg({\"dcases\": [np.mean, np.std, np.size]})"
   ],
   "execution_count":69,
   "outputs":[
    
   ],
   "metadata":{
    "datalore":{
     "type":"CODE",
     "hide_input_from_viewers":false,
     "hide_output_from_viewers":false
    }
   }
  },
  {
   "cell_type":"code",
   "source":[
    "stats=pd.DataFrame(stats)\n",
    "stats.shape"
   ],
   "execution_count":55,
   "outputs":[
    {
     "data":{
      "text\/plain":[
       "(1, 3)"
      ]
     },
     "metadata":{
      
     },
     "output_type":"display_data"
    }
   ],
   "metadata":{
    "datalore":{
     "type":"CODE",
     "hide_input_from_viewers":false,
     "hide_output_from_viewers":false
    }
   }
  },
  {
   "cell_type":"code",
   "source":[
    "stats.columns"
   ],
   "execution_count":56,
   "outputs":[
    {
     "data":{
      "text\/plain":[
       "MultiIndex([('dcases', 'mean'),\n",
       "            ('dcases',  'std'),\n",
       "            ('dcases', 'size')],\n",
       "           )"
      ]
     },
     "metadata":{
      
     },
     "output_type":"display_data"
    }
   ],
   "metadata":{
    "datalore":{
     "type":"CODE",
     "hide_input_from_viewers":false,
     "hide_output_from_viewers":false
    }
   }
  },
  {
   "cell_type":"code",
   "source":[
    "stats.columns=['mean','std','size']\n",
    "stats.columns"
   ],
   "execution_count":77,
   "outputs":[
    {
     "data":{
      "text\/plain":[
       "Index(['mean', 'std', 'size'], dtype='object')"
      ]
     },
     "metadata":{
      
     },
     "output_type":"display_data"
    }
   ],
   "metadata":{
    "datalore":{
     "type":"CODE",
     "hide_input_from_viewers":false,
     "hide_output_from_viewers":false
    }
   }
  },
  {
   "cell_type":"code",
   "source":[
    "x=dfitaly['dcases']"
   ],
   "execution_count":184,
   "outputs":[
    
   ],
   "metadata":{
    "datalore":{
     "type":"CODE",
     "hide_input_from_viewers":false,
     "hide_output_from_viewers":false
    }
   }
  },
  {
   "cell_type":"code",
   "source":[
    "def get_ci_lb(x, alpha=0.05):\n",
    "    sample_s=np.std(x)\n",
    "    sample_mean=np.mean(x)\n",
    "    sample_size=len(x)\n",
    "    margin_of_error = t.ppf(1 - alpha\/2,sample_size-1)*sample_s\/np.sqrt(sample_size-1)\n",
    "    return sample_mean - margin_of_error"
   ],
   "execution_count":187,
   "outputs":[
    
   ],
   "metadata":{
    "datalore":{
     "type":"CODE",
     "hide_input_from_viewers":false,
     "hide_output_from_viewers":false
    }
   }
  },
  {
   "cell_type":"code",
   "source":[
    "get_ci_lb(x)"
   ],
   "execution_count":188,
   "outputs":[
    {
     "ename":"AttributeError",
     "evalue":"AttributeError: 'Series' object has no attribute 'ppf'",
     "traceback":[
      "\u001b[0;31m---------------------------------------------------------------------------",
      "Traceback (most recent call last)",
      "    at line 1 in <module>",
      "    at line 5 in get_ci_lb(x, alpha)",
      "    at line 5487 in __getattr__(self, name)",
      "AttributeError: 'Series' object has no attribute 'ppf'"
     ],
     "output_type":"error"
    }
   ],
   "metadata":{
    "datalore":{
     "type":"CODE",
     "hide_input_from_viewers":false,
     "hide_output_from_viewers":false
    }
   }
  },
  {
   "cell_type":"code",
   "source":[
    "df1"
   ],
   "execution_count":166,
   "outputs":[
    {
     "data":{
      "text\/html":[
       "<div>\n",
       "<style scoped>\n",
       "    .dataframe tbody tr th:only-of-type {\n",
       "        vertical-align: middle;\n",
       "    }\n",
       "\n",
       "    .dataframe tbody tr th {\n",
       "        vertical-align: top;\n",
       "    }\n",
       "\n",
       "    .dataframe thead th {\n",
       "        text-align: right;\n",
       "    }\n",
       "<\/style>\n",
       "<table border=\"1\" class=\"dataframe\">\n",
       "  <thead>\n",
       "    <tr style=\"text-align: right;\">\n",
       "      <th><\/th>\n",
       "      <th>date<\/th>\n",
       "      <th>iso3c<\/th>\n",
       "      <th>country<\/th>\n",
       "      <th>income<\/th>\n",
       "      <th>region<\/th>\n",
       "      <th>continent<\/th>\n",
       "      <th>dcases<\/th>\n",
       "      <th>ddeaths<\/th>\n",
       "      <th>population<\/th>\n",
       "      <th>weekdays<\/th>\n",
       "      <th>month<\/th>\n",
       "      <th>totcases<\/th>\n",
       "      <th>totdeaths<\/th>\n",
       "      <th>cfr<\/th>\n",
       "    <\/tr>\n",
       "  <\/thead>\n",
       "  <tbody>\n",
       "    <tr>\n",
       "      <th>0<\/th>\n",
       "      <td>2020-02-24<\/td>\n",
       "      <td>AFG<\/td>\n",
       "      <td>Afghanistan<\/td>\n",
       "      <td>Low income<\/td>\n",
       "      <td>South Asia<\/td>\n",
       "      <td>Asia<\/td>\n",
       "      <td>5<\/td>\n",
       "      <td>0<\/td>\n",
       "      <td>38041754<\/td>\n",
       "      <td>Mon<\/td>\n",
       "      <td>Feb<\/td>\n",
       "      <td>5<\/td>\n",
       "      <td>0<\/td>\n",
       "      <td>0.000000<\/td>\n",
       "    <\/tr>\n",
       "    <tr>\n",
       "      <th>1<\/th>\n",
       "      <td>2020-02-25<\/td>\n",
       "      <td>AFG<\/td>\n",
       "      <td>Afghanistan<\/td>\n",
       "      <td>Low income<\/td>\n",
       "      <td>South Asia<\/td>\n",
       "      <td>Asia<\/td>\n",
       "      <td>0<\/td>\n",
       "      <td>0<\/td>\n",
       "      <td>38041754<\/td>\n",
       "      <td>Tue<\/td>\n",
       "      <td>Feb<\/td>\n",
       "      <td>5<\/td>\n",
       "      <td>0<\/td>\n",
       "      <td>0.000000<\/td>\n",
       "    <\/tr>\n",
       "    <tr>\n",
       "      <th>2<\/th>\n",
       "      <td>2020-02-26<\/td>\n",
       "      <td>AFG<\/td>\n",
       "      <td>Afghanistan<\/td>\n",
       "      <td>Low income<\/td>\n",
       "      <td>South Asia<\/td>\n",
       "      <td>Asia<\/td>\n",
       "      <td>0<\/td>\n",
       "      <td>0<\/td>\n",
       "      <td>38041754<\/td>\n",
       "      <td>Wed<\/td>\n",
       "      <td>Feb<\/td>\n",
       "      <td>5<\/td>\n",
       "      <td>0<\/td>\n",
       "      <td>0.000000<\/td>\n",
       "    <\/tr>\n",
       "    <tr>\n",
       "      <th>3<\/th>\n",
       "      <td>2020-02-27<\/td>\n",
       "      <td>AFG<\/td>\n",
       "      <td>Afghanistan<\/td>\n",
       "      <td>Low income<\/td>\n",
       "      <td>South Asia<\/td>\n",
       "      <td>Asia<\/td>\n",
       "      <td>0<\/td>\n",
       "      <td>0<\/td>\n",
       "      <td>38041754<\/td>\n",
       "      <td>Thu<\/td>\n",
       "      <td>Feb<\/td>\n",
       "      <td>5<\/td>\n",
       "      <td>0<\/td>\n",
       "      <td>0.000000<\/td>\n",
       "    <\/tr>\n",
       "    <tr>\n",
       "      <th>4<\/th>\n",
       "      <td>2020-02-28<\/td>\n",
       "      <td>AFG<\/td>\n",
       "      <td>Afghanistan<\/td>\n",
       "      <td>Low income<\/td>\n",
       "      <td>South Asia<\/td>\n",
       "      <td>Asia<\/td>\n",
       "      <td>0<\/td>\n",
       "      <td>0<\/td>\n",
       "      <td>38041754<\/td>\n",
       "      <td>Fri<\/td>\n",
       "      <td>Feb<\/td>\n",
       "      <td>5<\/td>\n",
       "      <td>0<\/td>\n",
       "      <td>0.000000<\/td>\n",
       "    <\/tr>\n",
       "    <tr>\n",
       "      <th>...<\/th>\n",
       "      <td>...<\/td>\n",
       "      <td>...<\/td>\n",
       "      <td>...<\/td>\n",
       "      <td>...<\/td>\n",
       "      <td>...<\/td>\n",
       "      <td>...<\/td>\n",
       "      <td>...<\/td>\n",
       "      <td>...<\/td>\n",
       "      <td>...<\/td>\n",
       "      <td>...<\/td>\n",
       "      <td>...<\/td>\n",
       "      <td>...<\/td>\n",
       "      <td>...<\/td>\n",
       "      <td>...<\/td>\n",
       "    <\/tr>\n",
       "    <tr>\n",
       "      <th>122838<\/th>\n",
       "      <td>2021-12-27<\/td>\n",
       "      <td>ZWE<\/td>\n",
       "      <td>Zimbabwe<\/td>\n",
       "      <td>Lower middle income<\/td>\n",
       "      <td>Sub-Saharan Africa<\/td>\n",
       "      <td>Africa<\/td>\n",
       "      <td>1098<\/td>\n",
       "      <td>17<\/td>\n",
       "      <td>14645468<\/td>\n",
       "      <td>Mon<\/td>\n",
       "      <td>Dec<\/td>\n",
       "      <td>205455<\/td>\n",
       "      <td>4908<\/td>\n",
       "      <td>0.023888<\/td>\n",
       "    <\/tr>\n",
       "    <tr>\n",
       "      <th>122839<\/th>\n",
       "      <td>2021-12-28<\/td>\n",
       "      <td>ZWE<\/td>\n",
       "      <td>Zimbabwe<\/td>\n",
       "      <td>Lower middle income<\/td>\n",
       "      <td>Sub-Saharan Africa<\/td>\n",
       "      <td>Africa<\/td>\n",
       "      <td>2099<\/td>\n",
       "      <td>32<\/td>\n",
       "      <td>14645468<\/td>\n",
       "      <td>Tue<\/td>\n",
       "      <td>Dec<\/td>\n",
       "      <td>207554<\/td>\n",
       "      <td>4940<\/td>\n",
       "      <td>0.023801<\/td>\n",
       "    <\/tr>\n",
       "    <tr>\n",
       "      <th>122840<\/th>\n",
       "      <td>2021-12-29<\/td>\n",
       "      <td>ZWE<\/td>\n",
       "      <td>Zimbabwe<\/td>\n",
       "      <td>Lower middle income<\/td>\n",
       "      <td>Sub-Saharan Africa<\/td>\n",
       "      <td>Africa<\/td>\n",
       "      <td>0<\/td>\n",
       "      <td>0<\/td>\n",
       "      <td>14645468<\/td>\n",
       "      <td>Wed<\/td>\n",
       "      <td>Dec<\/td>\n",
       "      <td>207554<\/td>\n",
       "      <td>4940<\/td>\n",
       "      <td>0.023801<\/td>\n",
       "    <\/tr>\n",
       "    <tr>\n",
       "      <th>122841<\/th>\n",
       "      <td>2021-12-30<\/td>\n",
       "      <td>ZWE<\/td>\n",
       "      <td>Zimbabwe<\/td>\n",
       "      <td>Lower middle income<\/td>\n",
       "      <td>Sub-Saharan Africa<\/td>\n",
       "      <td>Africa<\/td>\n",
       "      <td>4180<\/td>\n",
       "      <td>57<\/td>\n",
       "      <td>14645468<\/td>\n",
       "      <td>Thu<\/td>\n",
       "      <td>Dec<\/td>\n",
       "      <td>211734<\/td>\n",
       "      <td>4997<\/td>\n",
       "      <td>0.023600<\/td>\n",
       "    <\/tr>\n",
       "    <tr>\n",
       "      <th>122842<\/th>\n",
       "      <td>2021-12-31<\/td>\n",
       "      <td>ZWE<\/td>\n",
       "      <td>Zimbabwe<\/td>\n",
       "      <td>Lower middle income<\/td>\n",
       "      <td>Sub-Saharan Africa<\/td>\n",
       "      <td>Africa<\/td>\n",
       "      <td>1530<\/td>\n",
       "      <td>7<\/td>\n",
       "      <td>14645468<\/td>\n",
       "      <td>Fri<\/td>\n",
       "      <td>Dec<\/td>\n",
       "      <td>213264<\/td>\n",
       "      <td>5004<\/td>\n",
       "      <td>0.023464<\/td>\n",
       "    <\/tr>\n",
       "  <\/tbody>\n",
       "<\/table>\n",
       "<p>122843 rows × 14 columns<\/p>\n",
       "<\/div>"
      ]
     },
     "metadata":{
      
     },
     "output_type":"display_data"
    }
   ],
   "metadata":{
    "datalore":{
     "type":"CODE",
     "hide_input_from_viewers":false,
     "hide_output_from_viewers":false
    }
   }
  },
  {
   "cell_type":"code",
   "source":[
    "df1['date'][0]"
   ],
   "execution_count":168,
   "outputs":[
    {
     "data":{
      "text\/plain":[
       "'2020-02-24'"
      ]
     },
     "metadata":{
      
     },
     "output_type":"display_data"
    }
   ],
   "metadata":{
    "datalore":{
     "type":"CODE",
     "hide_input_from_viewers":false,
     "hide_output_from_viewers":false
    }
   }
  },
  {
   "cell_type":"code",
   "source":[
    "df1['year'] = pd. DatetimeIndex(df1['date']). year\n",
    "df1['year'][0]"
   ],
   "execution_count":170,
   "outputs":[
    {
     "data":{
      "text\/plain":[
       "2020"
      ]
     },
     "metadata":{
      
     },
     "output_type":"display_data"
    }
   ],
   "metadata":{
    "datalore":{
     "type":"CODE",
     "hide_input_from_viewers":false,
     "hide_output_from_viewers":false
    }
   }
  },
  {
   "cell_type":"markdown",
   "source":[
    "**Discussion and Conclusion of Results**\n",
    "\n",
    "High income countries have a large number of deaths compared to low income countries. This can be due to the high number of elderly population in developed countries as opposed to developing ones. We can also see that for Italy, the highest number of deaths occured during the winter months. This can be due to several reasons. Firstly, people in winter have lower immunity and the virus travels faster in colder climates, so more people catch COVID. Secondly, it can be due to the fact that COVID started in winter and people didn't know how to react to it as it was a new pandemic. Therefore, there was a lot of panic and not enough health awareness to deal with COVID. Moreover, the healthcare system of Italy failed to adapt to the increasing number of patients, which caused a higher mortality rate. "
   ],
   "attachments":{
    
   },
   "metadata":{
    "datalore":{
     "type":"MD",
     "hide_input_from_viewers":false,
     "hide_output_from_viewers":false
    }
   }
  }
 ],
 "metadata":{
  "datalore":{
   "version":1,
   "computation_mode":"JUPYTER",
   "package_manager":"pip",
   "base_environment":"default",
   "packages":[
    
   ]
  }
 },
 "nbformat":4,
 "nbformat_minor":4
}